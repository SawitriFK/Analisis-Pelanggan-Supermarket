{
 "cells": [
  {
   "cell_type": "markdown",
   "metadata": {
    "id": "88N7J1l0-xa0"
   },
   "source": [
    "Tugas ini berupa mini project yang diselesaikan diakhir pertemuan bulan pertama. Tugas disusun sesuai dengan materi yang diberikan tiap harinya di pekan 4. "
   ]
  },
  {
   "cell_type": "markdown",
   "metadata": {
    "id": "IRNtERY8FNe1"
   },
   "source": [
    "# Dataset\n",
    "\n",
    "silahkan unduh dataset berikut untuk mengerjakan tugas pekan 4:\n",
    "\n",
    "[pelanggan_supermarket.csv](https://drive.google.com/uc?export=download&id=1jaxCbZ4fcCneeVCEN-yuxWE0RyX25tbQ)"
   ]
  },
  {
   "cell_type": "markdown",
   "metadata": {
    "id": "Dk_lP4YPF6_i"
   },
   "source": [
    "\n",
    "\n",
    "---\n",
    "\n",
    "\n",
    "\n",
    "---\n",
    "\n",
    "\n",
    "\n",
    "---\n",
    "\n"
   ]
  },
  {
   "cell_type": "code",
   "execution_count": 1,
   "metadata": {
    "id": "lhN_Ue2qF8nN"
   },
   "outputs": [],
   "source": [
    "import pandas as pd\n",
    "import numpy as np\n",
    "import matplotlib.pyplot as plt\n",
    "import seaborn as sns\n",
    "import warnings\n",
    "warnings.filterwarnings('ignore')"
   ]
  },
  {
   "cell_type": "code",
   "execution_count": 2,
   "metadata": {
    "id": "M1tQcd_ILZXq"
   },
   "outputs": [
    {
     "data": {
      "text/html": [
       "<div>\n",
       "<style scoped>\n",
       "    .dataframe tbody tr th:only-of-type {\n",
       "        vertical-align: middle;\n",
       "    }\n",
       "\n",
       "    .dataframe tbody tr th {\n",
       "        vertical-align: top;\n",
       "    }\n",
       "\n",
       "    .dataframe thead th {\n",
       "        text-align: right;\n",
       "    }\n",
       "</style>\n",
       "<table border=\"1\" class=\"dataframe\">\n",
       "  <thead>\n",
       "    <tr style=\"text-align: right;\">\n",
       "      <th></th>\n",
       "      <th>ID_pelanggan</th>\n",
       "      <th>Jenis Kelamin</th>\n",
       "      <th>Umur</th>\n",
       "      <th>Pendapatan pertahun (juta)</th>\n",
       "      <th>Skor Belanja (1-100)</th>\n",
       "    </tr>\n",
       "  </thead>\n",
       "  <tbody>\n",
       "    <tr>\n",
       "      <th>222</th>\n",
       "      <td>223</td>\n",
       "      <td>Perempuan</td>\n",
       "      <td>27.0</td>\n",
       "      <td>78</td>\n",
       "      <td>89.0</td>\n",
       "    </tr>\n",
       "    <tr>\n",
       "      <th>49</th>\n",
       "      <td>50</td>\n",
       "      <td>Perempuan</td>\n",
       "      <td>31.0</td>\n",
       "      <td>40</td>\n",
       "      <td>NaN</td>\n",
       "    </tr>\n",
       "    <tr>\n",
       "      <th>34</th>\n",
       "      <td>35</td>\n",
       "      <td>Perempuan</td>\n",
       "      <td>49.0</td>\n",
       "      <td>33</td>\n",
       "      <td>14.0</td>\n",
       "    </tr>\n",
       "    <tr>\n",
       "      <th>16</th>\n",
       "      <td>17</td>\n",
       "      <td>Perempuan</td>\n",
       "      <td>35.0</td>\n",
       "      <td>21</td>\n",
       "      <td>150.0</td>\n",
       "    </tr>\n",
       "    <tr>\n",
       "      <th>99</th>\n",
       "      <td>100</td>\n",
       "      <td>Laki-laki</td>\n",
       "      <td>20.0</td>\n",
       "      <td>61</td>\n",
       "      <td>49.0</td>\n",
       "    </tr>\n",
       "  </tbody>\n",
       "</table>\n",
       "</div>"
      ],
      "text/plain": [
       "     ID_pelanggan Jenis Kelamin  Umur  Pendapatan pertahun (juta)  \\\n",
       "222           223     Perempuan  27.0                          78   \n",
       "49             50     Perempuan  31.0                          40   \n",
       "34             35     Perempuan  49.0                          33   \n",
       "16             17     Perempuan  35.0                          21   \n",
       "99            100     Laki-laki  20.0                          61   \n",
       "\n",
       "     Skor Belanja (1-100)  \n",
       "222                  89.0  \n",
       "49                    NaN  \n",
       "34                   14.0  \n",
       "16                  150.0  \n",
       "99                   49.0  "
      ]
     },
     "execution_count": 2,
     "metadata": {},
     "output_type": "execute_result"
    }
   ],
   "source": [
    "#Load data dari csv\n",
    "\n",
    "df_original = pd.read_csv('pelanggan_supermarket.csv')\n",
    "\n",
    "df_original.sample(5)"
   ]
  },
  {
   "cell_type": "code",
   "execution_count": 4,
   "metadata": {},
   "outputs": [
    {
     "data": {
      "text/plain": [
       "(250, 5)"
      ]
     },
     "execution_count": 4,
     "metadata": {},
     "output_type": "execute_result"
    }
   ],
   "source": [
    "df_original.shape"
   ]
  },
  {
   "cell_type": "markdown",
   "metadata": {
    "id": "aklja_xv_MS9"
   },
   "source": [
    "\n",
    "\n",
    "---\n",
    "\n",
    "\n",
    "\n",
    "---\n",
    "\n",
    "\n",
    "\n",
    "---\n",
    "\n"
   ]
  },
  {
   "cell_type": "markdown",
   "metadata": {
    "id": "zGrxp0w2GFOs"
   },
   "source": [
    "# Soal 1. Statistika Deskriptif\n",
    "\n",
    "Lakukan eksplorasi data dengan menggunakan statistika deskriptif. Gunakan pandas untuk mendapatkan summary statistics, dan analisa hasil yang ditampilkan."
   ]
  },
  {
   "cell_type": "code",
   "execution_count": 5,
   "metadata": {
    "id": "DpV8-yksGpIt"
   },
   "outputs": [
    {
     "data": {
      "text/html": [
       "<div>\n",
       "<style scoped>\n",
       "    .dataframe tbody tr th:only-of-type {\n",
       "        vertical-align: middle;\n",
       "    }\n",
       "\n",
       "    .dataframe tbody tr th {\n",
       "        vertical-align: top;\n",
       "    }\n",
       "\n",
       "    .dataframe thead th {\n",
       "        text-align: right;\n",
       "    }\n",
       "</style>\n",
       "<table border=\"1\" class=\"dataframe\">\n",
       "  <thead>\n",
       "    <tr style=\"text-align: right;\">\n",
       "      <th></th>\n",
       "      <th>ID_pelanggan</th>\n",
       "      <th>Umur</th>\n",
       "      <th>Pendapatan pertahun (juta)</th>\n",
       "      <th>Skor Belanja (1-100)</th>\n",
       "    </tr>\n",
       "  </thead>\n",
       "  <tbody>\n",
       "    <tr>\n",
       "      <th>count</th>\n",
       "      <td>250.000000</td>\n",
       "      <td>245.000000</td>\n",
       "      <td>250.000000</td>\n",
       "      <td>246.000000</td>\n",
       "    </tr>\n",
       "    <tr>\n",
       "      <th>mean</th>\n",
       "      <td>125.500000</td>\n",
       "      <td>38.730612</td>\n",
       "      <td>64.736000</td>\n",
       "      <td>50.325203</td>\n",
       "    </tr>\n",
       "    <tr>\n",
       "      <th>std</th>\n",
       "      <td>72.312977</td>\n",
       "      <td>14.328726</td>\n",
       "      <td>25.112324</td>\n",
       "      <td>28.668121</td>\n",
       "    </tr>\n",
       "    <tr>\n",
       "      <th>min</th>\n",
       "      <td>1.000000</td>\n",
       "      <td>18.000000</td>\n",
       "      <td>15.000000</td>\n",
       "      <td>3.000000</td>\n",
       "    </tr>\n",
       "    <tr>\n",
       "      <th>25%</th>\n",
       "      <td>63.250000</td>\n",
       "      <td>29.000000</td>\n",
       "      <td>47.000000</td>\n",
       "      <td>26.250000</td>\n",
       "    </tr>\n",
       "    <tr>\n",
       "      <th>50%</th>\n",
       "      <td>125.500000</td>\n",
       "      <td>36.000000</td>\n",
       "      <td>70.000000</td>\n",
       "      <td>50.000000</td>\n",
       "    </tr>\n",
       "    <tr>\n",
       "      <th>75%</th>\n",
       "      <td>187.750000</td>\n",
       "      <td>48.000000</td>\n",
       "      <td>78.750000</td>\n",
       "      <td>74.750000</td>\n",
       "    </tr>\n",
       "    <tr>\n",
       "      <th>max</th>\n",
       "      <td>250.000000</td>\n",
       "      <td>120.000000</td>\n",
       "      <td>137.000000</td>\n",
       "      <td>150.000000</td>\n",
       "    </tr>\n",
       "  </tbody>\n",
       "</table>\n",
       "</div>"
      ],
      "text/plain": [
       "       ID_pelanggan        Umur  Pendapatan pertahun (juta)  \\\n",
       "count    250.000000  245.000000                  250.000000   \n",
       "mean     125.500000   38.730612                   64.736000   \n",
       "std       72.312977   14.328726                   25.112324   \n",
       "min        1.000000   18.000000                   15.000000   \n",
       "25%       63.250000   29.000000                   47.000000   \n",
       "50%      125.500000   36.000000                   70.000000   \n",
       "75%      187.750000   48.000000                   78.750000   \n",
       "max      250.000000  120.000000                  137.000000   \n",
       "\n",
       "       Skor Belanja (1-100)  \n",
       "count            246.000000  \n",
       "mean              50.325203  \n",
       "std               28.668121  \n",
       "min                3.000000  \n",
       "25%               26.250000  \n",
       "50%               50.000000  \n",
       "75%               74.750000  \n",
       "max              150.000000  "
      ]
     },
     "execution_count": 5,
     "metadata": {},
     "output_type": "execute_result"
    }
   ],
   "source": [
    "df_original.describe()"
   ]
  },
  {
   "cell_type": "markdown",
   "metadata": {
    "id": "ENATFBsjU6Me"
   },
   "source": [
    "**Expected output**\n",
    "\n",
    "![](https://drive.google.com/uc?id=1-5_d0Ey1lWMXj0d8ABimuPqqTz-h-8mx)"
   ]
  },
  {
   "cell_type": "markdown",
   "metadata": {
    "id": "keRLYMjXHGup"
   },
   "source": [
    "\n",
    "\n",
    "---\n",
    "\n",
    "\n",
    "\n",
    "---\n",
    "\n",
    "\n",
    "\n",
    "---\n",
    "\n"
   ]
  },
  {
   "cell_type": "markdown",
   "metadata": {
    "id": "gqqEXm2yynSB"
   },
   "source": [
    "# Soal 2. Handling missing value\n",
    "\n",
    "Jika dilihat dari summary statistik terlihat dataset memiliki nilai missing. Hitunglah jumlah missing value menggunakan methode .isnull(). \n",
    "\n",
    "Isi nilai nan dengan nilai sebelumnya di row tersebut. gunakan method .fillna() dengan argument method bernilai 'ffill', baca dokumentasi https://pandas.pydata.org/pandas-docs/stable/reference/api/pandas.DataFrame.fillna.html"
   ]
  },
  {
   "cell_type": "markdown",
   "metadata": {
    "id": "i7yrAL-mZt4o"
   },
   "source": [
    "Cek keberadaan missing value sebelum imputasi"
   ]
  },
  {
   "cell_type": "code",
   "execution_count": 6,
   "metadata": {
    "id": "1SuPdIDFSCjn"
   },
   "outputs": [
    {
     "data": {
      "text/plain": [
       "ID_pelanggan                  0\n",
       "Jenis Kelamin                 0\n",
       "Umur                          5\n",
       "Pendapatan pertahun (juta)    0\n",
       "Skor Belanja (1-100)          4\n",
       "dtype: int64"
      ]
     },
     "execution_count": 6,
     "metadata": {},
     "output_type": "execute_result"
    }
   ],
   "source": [
    "df_original.isna().sum()"
   ]
  },
  {
   "cell_type": "code",
   "execution_count": 7,
   "metadata": {},
   "outputs": [
    {
     "data": {
      "text/html": [
       "<div>\n",
       "<style scoped>\n",
       "    .dataframe tbody tr th:only-of-type {\n",
       "        vertical-align: middle;\n",
       "    }\n",
       "\n",
       "    .dataframe tbody tr th {\n",
       "        vertical-align: top;\n",
       "    }\n",
       "\n",
       "    .dataframe thead th {\n",
       "        text-align: right;\n",
       "    }\n",
       "</style>\n",
       "<table border=\"1\" class=\"dataframe\">\n",
       "  <thead>\n",
       "    <tr style=\"text-align: right;\">\n",
       "      <th></th>\n",
       "      <th>ID_pelanggan</th>\n",
       "      <th>Jenis Kelamin</th>\n",
       "      <th>Umur</th>\n",
       "      <th>Pendapatan pertahun (juta)</th>\n",
       "      <th>Skor Belanja (1-100)</th>\n",
       "    </tr>\n",
       "  </thead>\n",
       "  <tbody>\n",
       "    <tr>\n",
       "      <th>49</th>\n",
       "      <td>50</td>\n",
       "      <td>Perempuan</td>\n",
       "      <td>31.0</td>\n",
       "      <td>40</td>\n",
       "      <td>NaN</td>\n",
       "    </tr>\n",
       "    <tr>\n",
       "      <th>61</th>\n",
       "      <td>62</td>\n",
       "      <td>Laki-laki</td>\n",
       "      <td>19.0</td>\n",
       "      <td>46</td>\n",
       "      <td>NaN</td>\n",
       "    </tr>\n",
       "    <tr>\n",
       "      <th>94</th>\n",
       "      <td>95</td>\n",
       "      <td>Perempuan</td>\n",
       "      <td>32.0</td>\n",
       "      <td>60</td>\n",
       "      <td>NaN</td>\n",
       "    </tr>\n",
       "    <tr>\n",
       "      <th>117</th>\n",
       "      <td>118</td>\n",
       "      <td>Perempuan</td>\n",
       "      <td>49.0</td>\n",
       "      <td>65</td>\n",
       "      <td>NaN</td>\n",
       "    </tr>\n",
       "    <tr>\n",
       "      <th>198</th>\n",
       "      <td>199</td>\n",
       "      <td>Laki-laki</td>\n",
       "      <td>NaN</td>\n",
       "      <td>137</td>\n",
       "      <td>18.0</td>\n",
       "    </tr>\n",
       "    <tr>\n",
       "      <th>209</th>\n",
       "      <td>210</td>\n",
       "      <td>Perempuan</td>\n",
       "      <td>NaN</td>\n",
       "      <td>76</td>\n",
       "      <td>40.0</td>\n",
       "    </tr>\n",
       "    <tr>\n",
       "      <th>216</th>\n",
       "      <td>217</td>\n",
       "      <td>Laki-laki</td>\n",
       "      <td>NaN</td>\n",
       "      <td>78</td>\n",
       "      <td>90.0</td>\n",
       "    </tr>\n",
       "    <tr>\n",
       "      <th>225</th>\n",
       "      <td>226</td>\n",
       "      <td>Laki-laki</td>\n",
       "      <td>NaN</td>\n",
       "      <td>78</td>\n",
       "      <td>4.0</td>\n",
       "    </tr>\n",
       "    <tr>\n",
       "      <th>240</th>\n",
       "      <td>241</td>\n",
       "      <td>Laki-laki</td>\n",
       "      <td>NaN</td>\n",
       "      <td>87</td>\n",
       "      <td>92.0</td>\n",
       "    </tr>\n",
       "  </tbody>\n",
       "</table>\n",
       "</div>"
      ],
      "text/plain": [
       "     ID_pelanggan Jenis Kelamin  Umur  Pendapatan pertahun (juta)  \\\n",
       "49             50     Perempuan  31.0                          40   \n",
       "61             62     Laki-laki  19.0                          46   \n",
       "94             95     Perempuan  32.0                          60   \n",
       "117           118     Perempuan  49.0                          65   \n",
       "198           199     Laki-laki   NaN                         137   \n",
       "209           210     Perempuan   NaN                          76   \n",
       "216           217     Laki-laki   NaN                          78   \n",
       "225           226     Laki-laki   NaN                          78   \n",
       "240           241     Laki-laki   NaN                          87   \n",
       "\n",
       "     Skor Belanja (1-100)  \n",
       "49                    NaN  \n",
       "61                    NaN  \n",
       "94                    NaN  \n",
       "117                   NaN  \n",
       "198                  18.0  \n",
       "209                  40.0  \n",
       "216                  90.0  \n",
       "225                   4.0  \n",
       "240                  92.0  "
      ]
     },
     "execution_count": 7,
     "metadata": {},
     "output_type": "execute_result"
    }
   ],
   "source": [
    "df_original[df_original.isna().any(axis=1)]"
   ]
  },
  {
   "cell_type": "markdown",
   "metadata": {
    "id": "84_QmoQCbWxy"
   },
   "source": [
    "isi nilai nan dengan menggunakan metode 'ffill' "
   ]
  },
  {
   "cell_type": "code",
   "execution_count": 8,
   "metadata": {
    "id": "VkrSzblxbU6R"
   },
   "outputs": [],
   "source": [
    "df = df_original.fillna(method=\"ffill\")"
   ]
  },
  {
   "cell_type": "markdown",
   "metadata": {
    "id": "Nk2o-YkFZt4q"
   },
   "source": [
    "Cek kembali keberadaan missing value setelah imputasi"
   ]
  },
  {
   "cell_type": "code",
   "execution_count": 9,
   "metadata": {
    "id": "Mho3zeRweopD"
   },
   "outputs": [
    {
     "data": {
      "text/plain": [
       "ID_pelanggan                  0\n",
       "Jenis Kelamin                 0\n",
       "Umur                          0\n",
       "Pendapatan pertahun (juta)    0\n",
       "Skor Belanja (1-100)          0\n",
       "dtype: int64"
      ]
     },
     "execution_count": 9,
     "metadata": {},
     "output_type": "execute_result"
    }
   ],
   "source": [
    "df.isna().sum()"
   ]
  },
  {
   "cell_type": "markdown",
   "metadata": {
    "id": "sy1o6Lhs_QJy"
   },
   "source": [
    "\n",
    "\n",
    "---\n",
    "\n",
    "\n",
    "\n",
    "---\n",
    "\n",
    "\n",
    "\n",
    "---\n",
    "\n"
   ]
  },
  {
   "cell_type": "markdown",
   "metadata": {
    "id": "0ch4lp680ZNj"
   },
   "source": [
    "# Soal 3. Handling outlier\n",
    "\n",
    "1. Apakah data set memiliki nilai pencilan untuk setiap kolom? periksalah dengan melakukan visualisasi menggunakan boxplot.\n",
    "2. Handling outlier tersebut dengan menggunakan teknik trimming / removing outliers (menggunakan teknik IQR)\n",
    "3. Teknik ini akan menghasilkan nilai missing pada nilai outlier yang telah dihapus, maka hapuslah data missing tersebut dengan menggunakan method .dropna()"
   ]
  },
  {
   "cell_type": "code",
   "execution_count": 11,
   "metadata": {},
   "outputs": [
    {
     "data": {
      "image/png": "[encoded data removed]",
      "text/plain": [
       "<Figure size 864x432 with 4 Axes>"
      ]
     },
     "metadata": {
      "needs_background": "light"
     },
     "output_type": "display_data"
    }
   ],
   "source": [
    "#Tampilkan Boxplot masing-masing kolom berisi data kuantitatif sebelum handling outlier\n",
    "#Jenis plot yang digunakan adalah boxplot seaborn\n",
    "\n",
    "plt.figure(figsize=(12,6))\n",
    "for i, col in enumerate(df.describe().columns):\n",
    "    plt.subplot(2,3, i+1)\n",
    "    sns.boxplot(x = df[col])\n",
    "    plt.tight_layout()\n",
    "\n",
    "plt.show()\n",
    "    "
   ]
  },
  {
   "cell_type": "code",
   "execution_count": 12,
   "metadata": {},
   "outputs": [],
   "source": [
    "# Fungsi mencaru Outliers\n",
    "def get_outliers(dframe):\n",
    "    \n",
    "    outliers_index=[]\n",
    "    for col in dframe.describe().columns:\n",
    "        \n",
    "        Q1= dframe[col].quantile(0.25)\n",
    "        Q3 = dframe[col].quantile(0.75)\n",
    "        IQR = Q3 - Q1\n",
    "\n",
    "\n",
    "        upper = Q3 + (1.5 * IQR)\n",
    "        lower = Q1 - (1.5 * IQR)\n",
    "        \n",
    "        outliers = dframe[ (dframe[col] < lower) | (dframe[col] > upper) ].index\n",
    "        outliers_index.extend(outliers.to_list()) # Ouliers yang didapat di List\n",
    "    \n",
    "    outliers_index = set(outliers_index) # Buat jadi set biar gak ada index yang sama (jangan ada duplikat)\n",
    "    outliers_index = list(outliers_index) # Buta jadi List lagi\n",
    "    \n",
    "    outliers_index.sort() # Biar Urut aja\n",
    "    \n",
    "    return outliers_index"
   ]
  },
  {
   "cell_type": "code",
   "execution_count": 13,
   "metadata": {},
   "outputs": [
    {
     "data": {
      "text/plain": [
       "[16, 198, 199, 249]"
      ]
     },
     "execution_count": 13,
     "metadata": {},
     "output_type": "execute_result"
    }
   ],
   "source": [
    "get_outliers(df)"
   ]
  },
  {
   "cell_type": "code",
   "execution_count": 14,
   "metadata": {},
   "outputs": [],
   "source": [
    "outliers_index = get_outliers(df)\n",
    "\n",
    "df.drop(outliers_index, inplace=True)"
   ]
  },
  {
   "cell_type": "code",
   "execution_count": 15,
   "metadata": {},
   "outputs": [
    {
     "data": {
      "text/html": [
       "<div>\n",
       "<style scoped>\n",
       "    .dataframe tbody tr th:only-of-type {\n",
       "        vertical-align: middle;\n",
       "    }\n",
       "\n",
       "    .dataframe tbody tr th {\n",
       "        vertical-align: top;\n",
       "    }\n",
       "\n",
       "    .dataframe thead th {\n",
       "        text-align: right;\n",
       "    }\n",
       "</style>\n",
       "<table border=\"1\" class=\"dataframe\">\n",
       "  <thead>\n",
       "    <tr style=\"text-align: right;\">\n",
       "      <th></th>\n",
       "      <th>ID_pelanggan</th>\n",
       "      <th>Jenis Kelamin</th>\n",
       "      <th>Umur</th>\n",
       "      <th>Pendapatan pertahun (juta)</th>\n",
       "      <th>Skor Belanja (1-100)</th>\n",
       "    </tr>\n",
       "  </thead>\n",
       "  <tbody>\n",
       "    <tr>\n",
       "      <th>0</th>\n",
       "      <td>1</td>\n",
       "      <td>Laki-laki</td>\n",
       "      <td>19.0</td>\n",
       "      <td>15</td>\n",
       "      <td>39.0</td>\n",
       "    </tr>\n",
       "    <tr>\n",
       "      <th>1</th>\n",
       "      <td>2</td>\n",
       "      <td>Laki-laki</td>\n",
       "      <td>21.0</td>\n",
       "      <td>15</td>\n",
       "      <td>81.0</td>\n",
       "    </tr>\n",
       "    <tr>\n",
       "      <th>2</th>\n",
       "      <td>3</td>\n",
       "      <td>Perempuan</td>\n",
       "      <td>20.0</td>\n",
       "      <td>16</td>\n",
       "      <td>6.0</td>\n",
       "    </tr>\n",
       "    <tr>\n",
       "      <th>3</th>\n",
       "      <td>4</td>\n",
       "      <td>Perempuan</td>\n",
       "      <td>23.0</td>\n",
       "      <td>16</td>\n",
       "      <td>77.0</td>\n",
       "    </tr>\n",
       "    <tr>\n",
       "      <th>4</th>\n",
       "      <td>5</td>\n",
       "      <td>Perempuan</td>\n",
       "      <td>31.0</td>\n",
       "      <td>17</td>\n",
       "      <td>40.0</td>\n",
       "    </tr>\n",
       "    <tr>\n",
       "      <th>...</th>\n",
       "      <td>...</td>\n",
       "      <td>...</td>\n",
       "      <td>...</td>\n",
       "      <td>...</td>\n",
       "      <td>...</td>\n",
       "    </tr>\n",
       "    <tr>\n",
       "      <th>244</th>\n",
       "      <td>245</td>\n",
       "      <td>Laki-laki</td>\n",
       "      <td>27.0</td>\n",
       "      <td>88</td>\n",
       "      <td>69.0</td>\n",
       "    </tr>\n",
       "    <tr>\n",
       "      <th>245</th>\n",
       "      <td>246</td>\n",
       "      <td>Laki-laki</td>\n",
       "      <td>59.0</td>\n",
       "      <td>93</td>\n",
       "      <td>14.0</td>\n",
       "    </tr>\n",
       "    <tr>\n",
       "      <th>246</th>\n",
       "      <td>247</td>\n",
       "      <td>Laki-laki</td>\n",
       "      <td>35.0</td>\n",
       "      <td>93</td>\n",
       "      <td>90.0</td>\n",
       "    </tr>\n",
       "    <tr>\n",
       "      <th>247</th>\n",
       "      <td>248</td>\n",
       "      <td>Perempuan</td>\n",
       "      <td>37.0</td>\n",
       "      <td>97</td>\n",
       "      <td>32.0</td>\n",
       "    </tr>\n",
       "    <tr>\n",
       "      <th>248</th>\n",
       "      <td>249</td>\n",
       "      <td>Perempuan</td>\n",
       "      <td>32.0</td>\n",
       "      <td>97</td>\n",
       "      <td>86.0</td>\n",
       "    </tr>\n",
       "  </tbody>\n",
       "</table>\n",
       "<p>246 rows × 5 columns</p>\n",
       "</div>"
      ],
      "text/plain": [
       "     ID_pelanggan Jenis Kelamin  Umur  Pendapatan pertahun (juta)  \\\n",
       "0               1     Laki-laki  19.0                          15   \n",
       "1               2     Laki-laki  21.0                          15   \n",
       "2               3     Perempuan  20.0                          16   \n",
       "3               4     Perempuan  23.0                          16   \n",
       "4               5     Perempuan  31.0                          17   \n",
       "..            ...           ...   ...                         ...   \n",
       "244           245     Laki-laki  27.0                          88   \n",
       "245           246     Laki-laki  59.0                          93   \n",
       "246           247     Laki-laki  35.0                          93   \n",
       "247           248     Perempuan  37.0                          97   \n",
       "248           249     Perempuan  32.0                          97   \n",
       "\n",
       "     Skor Belanja (1-100)  \n",
       "0                    39.0  \n",
       "1                    81.0  \n",
       "2                     6.0  \n",
       "3                    77.0  \n",
       "4                    40.0  \n",
       "..                    ...  \n",
       "244                  69.0  \n",
       "245                  14.0  \n",
       "246                  90.0  \n",
       "247                  32.0  \n",
       "248                  86.0  \n",
       "\n",
       "[246 rows x 5 columns]"
      ]
     },
     "execution_count": 15,
     "metadata": {},
     "output_type": "execute_result"
    }
   ],
   "source": [
    "df"
   ]
  },
  {
   "cell_type": "code",
   "execution_count": 17,
   "metadata": {
    "scrolled": true
   },
   "outputs": [
    {
     "data": {
      "image/png": "[encoded data removed]",
      "text/plain": [
       "<Figure size 864x432 with 3 Axes>"
      ]
     },
     "metadata": {
      "needs_background": "light"
     },
     "output_type": "display_data"
    }
   ],
   "source": [
    "#Tampilkan Boxplot masing-masing kolom berisi data kuantitatif sesudah handling outlier\n",
    "#Kolom ID Pelanggan tidak ikut ditampilkan\n",
    "\n",
    "plt.figure(figsize=(12,6))\n",
    "for i, col in enumerate(df.describe().columns[1:]):\n",
    "    plt.subplot(2,3, i+1)\n",
    "    sns.boxplot(x = df[col])\n",
    "    plt.tight_layout()\n",
    "\n",
    "plt.show()"
   ]
  },
  {
   "cell_type": "raw",
   "metadata": {
    "id": "MH1y8rEx0mKs"
   },
   "source": [
    "#Tampilkan Boxplot masing-masing kolom berisi data kuantitatif sebelum handling outlier\n",
    "#Jenis plot yang digunakan adalah boxplot seaborn\n",
    "\n",
    "# Setting Seaborn\n",
    "sns.set(rc = {'figure.figsize':(15,8)})\n",
    "sns.set_style('white')\n",
    "\n",
    "fig,ax = plt.subplots(nrows=2, ncols=3)\n",
    "sns.boxplot(data = df, x='ID_pelanggan', ax=ax[0][0])\n",
    "sns.boxplot(data = df, x='Umur', ax=ax[0][1])\n",
    "sns.boxplot(data = df, x=\"Pendapatan pertahun (juta)\", ax=ax[0][2])\n",
    "sns.boxplot(data = df, x=\"Skor Belanja (1-100)\", ax=ax[1][0])\n",
    "\n",
    "# Membuat subplot 5 dan 6 tidak terlihat\n",
    "ax[1][1].set_visible(False)\n",
    "ax[1][2].set_visible(False)"
   ]
  },
  {
   "cell_type": "raw",
   "metadata": {},
   "source": [
    "# # Fungsi mencaru Outliers\n",
    "def outliers(df, ft):\n",
    "    Q1= df[ft].quantile(0.25)\n",
    "    Q3 = df[ft].quantile(0.75)\n",
    "    IQR = Q3 - Q1\n",
    "    \n",
    "    \n",
    "    upper = Q3 + 1.5 * IQR\n",
    "    lower = Q1 - 1.5 * IQR\n",
    "    \n",
    "    \n",
    "    ls = df.index[ (df[ft] < lower) | (df[ft] > upper) ]\n",
    "    \n",
    "    return ls"
   ]
  },
  {
   "cell_type": "raw",
   "metadata": {},
   "source": [
    "# Memasukkan index outliers yang ditemukan pada List\n",
    "\n",
    "index_list = []\n",
    "for feature in ['ID_pelanggan', 'Umur', \"Pendapatan pertahun (juta)\", \"Skor Belanja (1-100)\"]:\n",
    "    index_list.extend(outliers(df, feature))\n",
    "index_list"
   ]
  },
  {
   "cell_type": "raw",
   "metadata": {},
   "source": [
    "# Fungsi Mengahapus objel\n",
    "def remove(df, ls):\n",
    "    ls = sorted(set(ls))\n",
    "    df = df.drop(ls)\n",
    "    return df"
   ]
  },
  {
   "cell_type": "raw",
   "metadata": {},
   "source": [
    "#Hilangkan Outlier dan tampilkan dataframe hasil menghilangkan outliernya\n",
    "\n",
    "df_clean = remove(df, index_list)\n",
    "df_clean"
   ]
  },
  {
   "cell_type": "raw",
   "metadata": {
    "id": "cJLeOfj9Zt4s"
   },
   "source": [
    "#Tampilkan Boxplot masing-masing kolom berisi data kuantitatif sesudah handling outlier\n",
    "#Kolom ID Pelanggan tidak ikut ditampilkan\n",
    "\n",
    "# Setting Seaborn\n",
    "sns.set(rc = {'figure.figsize':(15,4)})\n",
    "sns.set_style('white')\n",
    "\n",
    "fig,ax = plt.subplots(nrows=1, ncols=3)\n",
    "sns.boxplot(data = df, x='Umur', ax=ax[0])\n",
    "sns.boxplot(data = df, x=\"Pendapatan pertahun (juta)\", ax=ax[1])\n",
    "sns.boxplot(data = df, x=\"Skor Belanja (1-100)\", ax=ax[2])"
   ]
  },
  {
   "cell_type": "markdown",
   "metadata": {
    "id": "71J4kYuHVkbn"
   },
   "source": [
    "**Expected output**\n",
    "\n",
    "- **Melihat adanya pencilan menggunakan Boxplot (Sebelum hapus outlier):**\n",
    "\n",
    "![](https://drive.google.com/uc?id=1ettD4G8xBMCYcMUVt88kn5k_yCufgdyf)\n",
    "\n",
    "- **Data frame setelah menghapus outlier:**\n",
    "\n",
    "![](https://puu.sh/IIOxx/b0d9c3d73e.png)\n",
    "\n",
    "- **Melihat adanya pencilan menggunakan Boxplot (Setelah hapus outlier):**\n",
    "![](https://puu.sh/IIOA5/de25854dfa.png)"
   ]
  },
  {
   "cell_type": "markdown",
   "metadata": {
    "id": "mpSdl95j_TVj"
   },
   "source": [
    "\n",
    "\n",
    "---\n",
    "\n",
    "\n",
    "\n",
    "---\n",
    "\n",
    "\n",
    "\n",
    "---\n",
    "\n"
   ]
  },
  {
   "cell_type": "markdown",
   "metadata": {
    "id": "YKODTt1z7XTq"
   },
   "source": [
    "# Soal 4. statistika Inferential\n",
    "\n",
    "\n",
    "\n",
    "*   Kita akan melakukan hipotesis terhadap 100 sample pengunjung Supermarket. Hipotesis awal adalah rata2 usia pengunjung supermarket adalah 35 tahun. Ujilah hipotesis tersebut dengan menggunakan teknik probabilitas p-value)!\n",
    "*   Level significat value acuan (disebut juga level alpha) adalah 5%\n",
    "*   Gunakan variabel dataframe **hasil handling missing value dan outlier dari soal sebelumnya**\n",
    "*   Berikan uraian analisis uji hipotesis menggunakan teknik p-value (untuk mendapatkan nilai p-value, silahkan gunakan fungsi **\"ztest\"** dari library **statsmodels.stats.weightstats**)\n",
    "*   Untuk mempermudah perhitungan, ubahlah tipe data kolom Umur menjadi int dengan menggunakan methode .astype() baca dokumentasi https://pandas.pydata.org/pandas-docs/stable/reference/api/pandas.DataFrame.astype.html\n",
    "\n",
    "\n",
    "\n"
   ]
  },
  {
   "cell_type": "code",
   "execution_count": 18,
   "metadata": {
    "id": "wEPnJKbl7GTK"
   },
   "outputs": [
    {
     "data": {
      "text/html": [
       "<div>\n",
       "<style scoped>\n",
       "    .dataframe tbody tr th:only-of-type {\n",
       "        vertical-align: middle;\n",
       "    }\n",
       "\n",
       "    .dataframe tbody tr th {\n",
       "        vertical-align: top;\n",
       "    }\n",
       "\n",
       "    .dataframe thead th {\n",
       "        text-align: right;\n",
       "    }\n",
       "</style>\n",
       "<table border=\"1\" class=\"dataframe\">\n",
       "  <thead>\n",
       "    <tr style=\"text-align: right;\">\n",
       "      <th></th>\n",
       "      <th>ID_pelanggan</th>\n",
       "      <th>Jenis Kelamin</th>\n",
       "      <th>Umur</th>\n",
       "      <th>Pendapatan pertahun (juta)</th>\n",
       "      <th>Skor Belanja (1-100)</th>\n",
       "    </tr>\n",
       "  </thead>\n",
       "  <tbody>\n",
       "    <tr>\n",
       "      <th>68</th>\n",
       "      <td>69</td>\n",
       "      <td>Laki-laki</td>\n",
       "      <td>19.0</td>\n",
       "      <td>48</td>\n",
       "      <td>59.0</td>\n",
       "    </tr>\n",
       "    <tr>\n",
       "      <th>248</th>\n",
       "      <td>249</td>\n",
       "      <td>Perempuan</td>\n",
       "      <td>32.0</td>\n",
       "      <td>97</td>\n",
       "      <td>86.0</td>\n",
       "    </tr>\n",
       "    <tr>\n",
       "      <th>211</th>\n",
       "      <td>212</td>\n",
       "      <td>Laki-laki</td>\n",
       "      <td>25.0</td>\n",
       "      <td>77</td>\n",
       "      <td>12.0</td>\n",
       "    </tr>\n",
       "    <tr>\n",
       "      <th>225</th>\n",
       "      <td>226</td>\n",
       "      <td>Laki-laki</td>\n",
       "      <td>30.0</td>\n",
       "      <td>78</td>\n",
       "      <td>4.0</td>\n",
       "    </tr>\n",
       "    <tr>\n",
       "      <th>91</th>\n",
       "      <td>92</td>\n",
       "      <td>Laki-laki</td>\n",
       "      <td>18.0</td>\n",
       "      <td>59</td>\n",
       "      <td>41.0</td>\n",
       "    </tr>\n",
       "    <tr>\n",
       "      <th>...</th>\n",
       "      <td>...</td>\n",
       "      <td>...</td>\n",
       "      <td>...</td>\n",
       "      <td>...</td>\n",
       "      <td>...</td>\n",
       "    </tr>\n",
       "    <tr>\n",
       "      <th>5</th>\n",
       "      <td>6</td>\n",
       "      <td>Perempuan</td>\n",
       "      <td>22.0</td>\n",
       "      <td>17</td>\n",
       "      <td>76.0</td>\n",
       "    </tr>\n",
       "    <tr>\n",
       "      <th>184</th>\n",
       "      <td>185</td>\n",
       "      <td>Perempuan</td>\n",
       "      <td>41.0</td>\n",
       "      <td>99</td>\n",
       "      <td>39.0</td>\n",
       "    </tr>\n",
       "    <tr>\n",
       "      <th>186</th>\n",
       "      <td>187</td>\n",
       "      <td>Perempuan</td>\n",
       "      <td>54.0</td>\n",
       "      <td>101</td>\n",
       "      <td>24.0</td>\n",
       "    </tr>\n",
       "    <tr>\n",
       "      <th>49</th>\n",
       "      <td>50</td>\n",
       "      <td>Perempuan</td>\n",
       "      <td>31.0</td>\n",
       "      <td>40</td>\n",
       "      <td>42.0</td>\n",
       "    </tr>\n",
       "    <tr>\n",
       "      <th>201</th>\n",
       "      <td>202</td>\n",
       "      <td>Laki-laki</td>\n",
       "      <td>20.0</td>\n",
       "      <td>73</td>\n",
       "      <td>5.0</td>\n",
       "    </tr>\n",
       "  </tbody>\n",
       "</table>\n",
       "<p>100 rows × 5 columns</p>\n",
       "</div>"
      ],
      "text/plain": [
       "     ID_pelanggan Jenis Kelamin  Umur  Pendapatan pertahun (juta)  \\\n",
       "68             69     Laki-laki  19.0                          48   \n",
       "248           249     Perempuan  32.0                          97   \n",
       "211           212     Laki-laki  25.0                          77   \n",
       "225           226     Laki-laki  30.0                          78   \n",
       "91             92     Laki-laki  18.0                          59   \n",
       "..            ...           ...   ...                         ...   \n",
       "5               6     Perempuan  22.0                          17   \n",
       "184           185     Perempuan  41.0                          99   \n",
       "186           187     Perempuan  54.0                         101   \n",
       "49             50     Perempuan  31.0                          40   \n",
       "201           202     Laki-laki  20.0                          73   \n",
       "\n",
       "     Skor Belanja (1-100)  \n",
       "68                   59.0  \n",
       "248                  86.0  \n",
       "211                  12.0  \n",
       "225                   4.0  \n",
       "91                   41.0  \n",
       "..                    ...  \n",
       "5                    76.0  \n",
       "184                  39.0  \n",
       "186                  24.0  \n",
       "49                   42.0  \n",
       "201                   5.0  \n",
       "\n",
       "[100 rows x 5 columns]"
      ]
     },
     "metadata": {},
     "output_type": "display_data"
    }
   ],
   "source": [
    "#Lakukan sampling\n",
    "#Isi bagian yang kosong dengan nama dataframe tempat anda menyimpan hasil no. 3\n",
    "\n",
    "df_100 = df.sample(100,  random_state=1)\n",
    "display(df_100)"
   ]
  },
  {
   "cell_type": "code",
   "execution_count": 19,
   "metadata": {},
   "outputs": [
    {
     "data": {
      "text/plain": [
       "ID_pelanggan                    int64\n",
       "Jenis Kelamin                  object\n",
       "Umur                          float64\n",
       "Pendapatan pertahun (juta)      int64\n",
       "Skor Belanja (1-100)          float64\n",
       "dtype: object"
      ]
     },
     "execution_count": 19,
     "metadata": {},
     "output_type": "execute_result"
    }
   ],
   "source": [
    "df_100.dtypes"
   ]
  },
  {
   "cell_type": "code",
   "execution_count": 20,
   "metadata": {
    "id": "KsXLp9-IxrLr"
   },
   "outputs": [
    {
     "data": {
      "text/plain": [
       "ID_pelanggan                    int64\n",
       "Jenis Kelamin                  object\n",
       "Umur                            int64\n",
       "Pendapatan pertahun (juta)      int64\n",
       "Skor Belanja (1-100)          float64\n",
       "dtype: object"
      ]
     },
     "execution_count": 20,
     "metadata": {},
     "output_type": "execute_result"
    }
   ],
   "source": [
    "#Ubah value kolom Umur dari float menjadi integer\n",
    "\n",
    "df_100 = df_100.astype({\"Umur\":'int64'})\n",
    "df_100.dtypes"
   ]
  },
  {
   "cell_type": "code",
   "execution_count": 45,
   "metadata": {},
   "outputs": [],
   "source": [
    "alpha=0.05\n",
    "mean=35"
   ]
  },
  {
   "cell_type": "code",
   "execution_count": 46,
   "metadata": {
    "id": "D7tYQ8qDp4in"
   },
   "outputs": [
    {
     "name": "stdout",
     "output_type": "stream",
     "text": [
      "Z-test is :2.4874107887154624\n",
      "p-value is :0.012867672183696988\n"
     ]
    }
   ],
   "source": [
    "# menggunakan teknik p-value\n",
    "# Isi bagian yang kosong\n",
    "\n",
    "from statsmodels.stats.weightstats import ztest\n",
    "\n",
    "z_test, p_value = ztest(x1=df_100['Umur'], value=mean)\n",
    "\n",
    "#print the Results\n",
    "print(f'Z-test is :{z_test}')\n",
    "print(f'p-value is :{p_value}')"
   ]
  },
  {
   "cell_type": "code",
   "execution_count": 55,
   "metadata": {},
   "outputs": [
    {
     "name": "stdout",
     "output_type": "stream",
     "text": [
      "rata2 usia pengunjung supermarket adalah 35 tahun\n"
     ]
    }
   ],
   "source": [
    "if p_value < alpha:\n",
    "    print('rata2 usia pengunjung supermarket adalah 35 tahun')\n",
    "else:\n",
    "    print('rata2 usia pengunjung supermarket adalah bukan 35 tahun')\n",
    "    "
   ]
  },
  {
   "cell_type": "raw",
   "metadata": {},
   "source": [
    "Dari hasil output diatas, (p-value) = 0.0128.., itu artinya kesalahan penelitian secara statistik (berdasarkan uji statistik) adalah sebesar 1.28..%. Jika nilai p-value ini kita bandingkan dengan α = 0,05 ( alpha 5%) maka otomatis nilai sig. (p-value) lebih kecil dari α. "
   ]
  },
  {
   "cell_type": "markdown",
   "metadata": {
    "id": "68Kt7Jr3Zt4u"
   },
   "source": [
    "**Expected Output:**\n",
    "\n",
    "Z-Test is: 2.48741...\n",
    "<br>P-value is: 0.01286767...\n",
    "\n",
    "<br>\\[Uraian analisis berdasarkan p-value\\]"
   ]
  },
  {
   "cell_type": "markdown",
   "metadata": {
    "id": "272__Q0-_H_E"
   },
   "source": [
    "\n",
    "\n",
    "---\n",
    "\n",
    "\n",
    "\n",
    "---\n",
    "\n",
    "\n",
    "\n",
    "---\n",
    "\n"
   ]
  },
  {
   "cell_type": "markdown",
   "metadata": {
    "id": "q4TB5nadDdp1"
   },
   "source": [
    "## Soal 5. EDA"
   ]
  },
  {
   "cell_type": "markdown",
   "metadata": {
    "id": "GQCd-O8ApvTE"
   },
   "source": [
    "### 5.a. Univariate Analysis\n",
    "\n",
    "Lakukan eksplorasi data analisis. Gunakan visualisasi distplot untuk melihat sebaran data dan histogram pada setiap kolom **dataset awal sebelum dilakukan handling missing value maupun outlier**.\n",
    "<br><br>\n",
    "Jenis plot yang digunakan adalah distplot seaborn"
   ]
  },
  {
   "cell_type": "code",
   "execution_count": 23,
   "metadata": {
    "id": "yqU_q301A-Iw"
   },
   "outputs": [
    {
     "data": {
      "image/png": "[encoded data removed]",
      "text/plain": [
       "<Figure size 864x432 with 4 Axes>"
      ]
     },
     "metadata": {
      "needs_background": "light"
     },
     "output_type": "display_data"
    }
   ],
   "source": [
    "plt.figure(figsize=(12,6))\n",
    "sns.set_style(\"whitegrid\", {'axes.grid' : False})\n",
    "for i, col in enumerate(df_original.describe().columns):\n",
    "    plt.subplot(2,3, i+1)\n",
    "    sns.distplot(x = df_original[col], axlabel = col)\n",
    "    plt.tight_layout()\n",
    "\n",
    "plt.show()"
   ]
  },
  {
   "cell_type": "markdown",
   "metadata": {
    "id": "2RdSlcSKZt4v"
   },
   "source": [
    "**Expected Output:**\n",
    "\n",
    "![](https://puu.sh/IIOGG/54e31ca7e0.png)\n",
    "\n",
    "\\[Uraian analisis berdasarkan output grafik analisis univariat yang didapat\\]"
   ]
  },
  {
   "cell_type": "raw",
   "metadata": {},
   "source": [
    "Jika dilihat dari seluruh grafik diatas, grafik Umur memiliki kepadatan tertinggi dimana dapat mencapai kepadatan 0.04. Pada grafik ID_pelanggan memiliki kepadatan hampir sama dengan kepadatan tertinggi 0.004. Pada grafik Umur kedapatan paling banyak terkumpul pada umur 35. pada grafik Pendapatan pertahun (juta), kepadatan paling banyak terkumpul di sekitar 80. Pada grafik Skor Belanja (1-100), kepadatan paling banyak terkumpul di sekitar skor 50."
   ]
  },
  {
   "cell_type": "markdown",
   "metadata": {
    "id": "dboImtGCDjMs"
   },
   "source": [
    "---\n",
    "\n",
    "### 5.b. Bivariate Analysis\n",
    "\n",
    "Lakukan eksplorasi data analisis. Gunakan visualisasi barplot untuk melihat perbandingan skor belanja antara pengunjung perempuan dengan pengunjung lai-laki pada dataset awal **sebelum dilakukan handling missing value maupun outlier**\n",
    "\n",
    "#### > Sort dataframe berdasarkan Skor Belanja, dari besar ke kecil\n"
   ]
  },
  {
   "cell_type": "code",
   "execution_count": 24,
   "metadata": {
    "id": "35VQedYoEB-w"
   },
   "outputs": [],
   "source": [
    "skor = df_original.sort_values(by='Skor Belanja (1-100)', ascending=False)"
   ]
  },
  {
   "cell_type": "markdown",
   "metadata": {
    "id": "ES5gHkXmZt4w"
   },
   "source": [
    "#### > Tampilkan 5 data teratasnya"
   ]
  },
  {
   "cell_type": "code",
   "execution_count": 25,
   "metadata": {
    "id": "cnUOyPGUZt4w"
   },
   "outputs": [
    {
     "data": {
      "text/html": [
       "<div>\n",
       "<style scoped>\n",
       "    .dataframe tbody tr th:only-of-type {\n",
       "        vertical-align: middle;\n",
       "    }\n",
       "\n",
       "    .dataframe tbody tr th {\n",
       "        vertical-align: top;\n",
       "    }\n",
       "\n",
       "    .dataframe thead th {\n",
       "        text-align: right;\n",
       "    }\n",
       "</style>\n",
       "<table border=\"1\" class=\"dataframe\">\n",
       "  <thead>\n",
       "    <tr style=\"text-align: right;\">\n",
       "      <th></th>\n",
       "      <th>ID_pelanggan</th>\n",
       "      <th>Jenis Kelamin</th>\n",
       "      <th>Umur</th>\n",
       "      <th>Pendapatan pertahun (juta)</th>\n",
       "      <th>Skor Belanja (1-100)</th>\n",
       "    </tr>\n",
       "  </thead>\n",
       "  <tbody>\n",
       "    <tr>\n",
       "      <th>16</th>\n",
       "      <td>17</td>\n",
       "      <td>Perempuan</td>\n",
       "      <td>35.0</td>\n",
       "      <td>21</td>\n",
       "      <td>150.0</td>\n",
       "    </tr>\n",
       "    <tr>\n",
       "      <th>11</th>\n",
       "      <td>12</td>\n",
       "      <td>Perempuan</td>\n",
       "      <td>35.0</td>\n",
       "      <td>19</td>\n",
       "      <td>99.0</td>\n",
       "    </tr>\n",
       "    <tr>\n",
       "      <th>19</th>\n",
       "      <td>20</td>\n",
       "      <td>Perempuan</td>\n",
       "      <td>35.0</td>\n",
       "      <td>23</td>\n",
       "      <td>98.0</td>\n",
       "    </tr>\n",
       "    <tr>\n",
       "      <th>185</th>\n",
       "      <td>186</td>\n",
       "      <td>Laki-laki</td>\n",
       "      <td>30.0</td>\n",
       "      <td>99</td>\n",
       "      <td>97.0</td>\n",
       "    </tr>\n",
       "    <tr>\n",
       "      <th>145</th>\n",
       "      <td>146</td>\n",
       "      <td>Laki-laki</td>\n",
       "      <td>28.0</td>\n",
       "      <td>77</td>\n",
       "      <td>97.0</td>\n",
       "    </tr>\n",
       "  </tbody>\n",
       "</table>\n",
       "</div>"
      ],
      "text/plain": [
       "     ID_pelanggan Jenis Kelamin  Umur  Pendapatan pertahun (juta)  \\\n",
       "16             17     Perempuan  35.0                          21   \n",
       "11             12     Perempuan  35.0                          19   \n",
       "19             20     Perempuan  35.0                          23   \n",
       "185           186     Laki-laki  30.0                          99   \n",
       "145           146     Laki-laki  28.0                          77   \n",
       "\n",
       "     Skor Belanja (1-100)  \n",
       "16                  150.0  \n",
       "11                   99.0  \n",
       "19                   98.0  \n",
       "185                  97.0  \n",
       "145                  97.0  "
      ]
     },
     "execution_count": 25,
     "metadata": {},
     "output_type": "execute_result"
    }
   ],
   "source": [
    "high_skor = skor.head()\n",
    "high_skor"
   ]
  },
  {
   "cell_type": "markdown",
   "metadata": {
    "id": "nwqnveD6Zt4w"
   },
   "source": [
    "#### > Tampilkan 5 data terbawahnya"
   ]
  },
  {
   "cell_type": "code",
   "execution_count": 26,
   "metadata": {
    "id": "uGct3LD7RUon"
   },
   "outputs": [
    {
     "data": {
      "text/html": [
       "<div>\n",
       "<style scoped>\n",
       "    .dataframe tbody tr th:only-of-type {\n",
       "        vertical-align: middle;\n",
       "    }\n",
       "\n",
       "    .dataframe tbody tr th {\n",
       "        vertical-align: top;\n",
       "    }\n",
       "\n",
       "    .dataframe thead th {\n",
       "        text-align: right;\n",
       "    }\n",
       "</style>\n",
       "<table border=\"1\" class=\"dataframe\">\n",
       "  <thead>\n",
       "    <tr style=\"text-align: right;\">\n",
       "      <th></th>\n",
       "      <th>ID_pelanggan</th>\n",
       "      <th>Jenis Kelamin</th>\n",
       "      <th>Umur</th>\n",
       "      <th>Pendapatan pertahun (juta)</th>\n",
       "      <th>Skor Belanja (1-100)</th>\n",
       "    </tr>\n",
       "  </thead>\n",
       "  <tbody>\n",
       "    <tr>\n",
       "      <th>8</th>\n",
       "      <td>9</td>\n",
       "      <td>Laki-laki</td>\n",
       "      <td>64.0</td>\n",
       "      <td>19</td>\n",
       "      <td>3.0</td>\n",
       "    </tr>\n",
       "    <tr>\n",
       "      <th>49</th>\n",
       "      <td>50</td>\n",
       "      <td>Perempuan</td>\n",
       "      <td>31.0</td>\n",
       "      <td>40</td>\n",
       "      <td>NaN</td>\n",
       "    </tr>\n",
       "    <tr>\n",
       "      <th>61</th>\n",
       "      <td>62</td>\n",
       "      <td>Laki-laki</td>\n",
       "      <td>19.0</td>\n",
       "      <td>46</td>\n",
       "      <td>NaN</td>\n",
       "    </tr>\n",
       "    <tr>\n",
       "      <th>94</th>\n",
       "      <td>95</td>\n",
       "      <td>Perempuan</td>\n",
       "      <td>32.0</td>\n",
       "      <td>60</td>\n",
       "      <td>NaN</td>\n",
       "    </tr>\n",
       "    <tr>\n",
       "      <th>117</th>\n",
       "      <td>118</td>\n",
       "      <td>Perempuan</td>\n",
       "      <td>49.0</td>\n",
       "      <td>65</td>\n",
       "      <td>NaN</td>\n",
       "    </tr>\n",
       "  </tbody>\n",
       "</table>\n",
       "</div>"
      ],
      "text/plain": [
       "     ID_pelanggan Jenis Kelamin  Umur  Pendapatan pertahun (juta)  \\\n",
       "8               9     Laki-laki  64.0                          19   \n",
       "49             50     Perempuan  31.0                          40   \n",
       "61             62     Laki-laki  19.0                          46   \n",
       "94             95     Perempuan  32.0                          60   \n",
       "117           118     Perempuan  49.0                          65   \n",
       "\n",
       "     Skor Belanja (1-100)  \n",
       "8                     3.0  \n",
       "49                    NaN  \n",
       "61                    NaN  \n",
       "94                    NaN  \n",
       "117                   NaN  "
      ]
     },
     "execution_count": 26,
     "metadata": {},
     "output_type": "execute_result"
    }
   ],
   "source": [
    "low_skor = skor.tail()\n",
    "low_skor"
   ]
  },
  {
   "cell_type": "markdown",
   "metadata": {
    "id": "KRN9MnmmZt4w"
   },
   "source": [
    "#### > Buat grafiknya menggunakan barplot seaborn"
   ]
  },
  {
   "cell_type": "code",
   "execution_count": 27,
   "metadata": {
    "id": "7zp_872QEOfJ"
   },
   "outputs": [
    {
     "data": {
      "image/png": "[encoded data removed]",
      "text/plain": [
       "<Figure size 1080x432 with 2 Axes>"
      ]
     },
     "metadata": {},
     "output_type": "display_data"
    }
   ],
   "source": [
    "fig, ax = plt.subplots(2, 1, figsize=(15,6))\n",
    "sns.barplot(x='Jenis Kelamin', y = 'Skor Belanja (1-100)', data=high_skor, ax=ax[0]).set(title='Top Highest Skor Belanja')\n",
    "sns.barplot(x='Jenis Kelamin', y = 'Skor Belanja (1-100)', data=low_skor, ax=ax[1]).set(title='Top Lowest Skor Belanja')\n",
    "\n",
    "plt.show()"
   ]
  },
  {
   "cell_type": "markdown",
   "metadata": {
    "id": "rvomcnVzWD90"
   },
   "source": [
    "**Expected output:**\n",
    "\n",
    "![](https://puu.sh/IIOLu/8c1c76b5e4.png)\n",
    "\n",
    "\\[Uraian analisis dari grafik bivariat yang didapat\\]"
   ]
  },
  {
   "cell_type": "raw",
   "metadata": {},
   "source": [
    "Pada grafik diatas terlihat bahwa pada 5 data terbawah skor belanja terbanyak dimiliki oleh pelanggan berjenis kelamin Laki-laki sedangkan pada 5 data teratas skor belanja terbanyak dimiliki oleh perempuan. Hal ini menjelaskan bahwa pelanggan perempuan memiliki minat belanja lebih tinggi dari pelanggan laki-laki."
   ]
  },
  {
   "cell_type": "markdown",
   "metadata": {
    "id": "fihavQveF98v"
   },
   "source": [
    "---\n",
    "\n",
    "### 5.c. Multivariate Analysis\n",
    "\n",
    "Lakukan eksplorasi data analisis. Gunakan visualisasi heatmap sebagai multivariate analisis untuk melihat korelasi tertinggi dari setiap data pada dataset awal **sebelum dilakukan handling missing value maupun outlier**\n",
    "\n",
    "Plot menggunakan heatmap seaborn."
   ]
  },
  {
   "cell_type": "code",
   "execution_count": 28,
   "metadata": {
    "id": "jCLrxETOGKVf"
   },
   "outputs": [
    {
     "data": {
      "text/plain": [
       "<AxesSubplot:>"
      ]
     },
     "execution_count": 28,
     "metadata": {},
     "output_type": "execute_result"
    },
    {
     "data": {
      "image/png": "[encoded data removed]",
      "text/plain": [
       "<Figure size 432x288 with 2 Axes>"
      ]
     },
     "metadata": {},
     "output_type": "display_data"
    }
   ],
   "source": [
    "#Isi bagian yang kosong\n",
    "sns.heatmap(df_original[['ID_pelanggan', \n",
    "                         'Umur', \n",
    "                         'Pendapatan pertahun (juta)', \n",
    "                         'Skor Belanja (1-100)']].corr(), annot=True, fmt='.2g')"
   ]
  },
  {
   "cell_type": "markdown",
   "metadata": {
    "id": "huO1O_clZt4y"
   },
   "source": [
    "**Expected Output:**\n",
    "\n",
    "![](https://puu.sh/IIOQG/57c5ba3219.png)\n",
    "\n",
    "\\[Uraian analisis dari grafik multivariat yang didapat\\]"
   ]
  },
  {
   "cell_type": "raw",
   "metadata": {
    "id": "z2nJhKqNpryR"
   },
   "source": [
    "Pada grafik diatas terlihat memiliki korelasi yang tinggi. Dimana korelasi tertinggi yaitu hubungan anrata variabel Umur dengan Skor Belanja yaitu -0.33."
   ]
  },
  {
   "cell_type": "markdown",
   "metadata": {
    "id": "Dk_lP4YPF6_i"
   },
   "source": [
    "\n",
    "\n",
    "---\n",
    "\n",
    "\n",
    "\n",
    "---\n",
    "\n",
    "\n",
    "\n",
    "---\n",
    "\n"
   ]
  },
  {
   "cell_type": "markdown",
   "metadata": {
    "id": "AF0090RVqbyh"
   },
   "source": [
    "# Soal 6\n",
    "lakukan scaling data dengan menggunakan standarisasi untuk kolom Umur dan skor belanja saja tetapi **menggunakan variabel dataframe setelah handling missing value dan outlier**"
   ]
  },
  {
   "cell_type": "code",
   "execution_count": 29,
   "metadata": {},
   "outputs": [
    {
     "data": {
      "text/html": [
       "<div>\n",
       "<style scoped>\n",
       "    .dataframe tbody tr th:only-of-type {\n",
       "        vertical-align: middle;\n",
       "    }\n",
       "\n",
       "    .dataframe tbody tr th {\n",
       "        vertical-align: top;\n",
       "    }\n",
       "\n",
       "    .dataframe thead th {\n",
       "        text-align: right;\n",
       "    }\n",
       "</style>\n",
       "<table border=\"1\" class=\"dataframe\">\n",
       "  <thead>\n",
       "    <tr style=\"text-align: right;\">\n",
       "      <th></th>\n",
       "      <th>Umur</th>\n",
       "      <th>Skor Belanja (1-100)</th>\n",
       "    </tr>\n",
       "  </thead>\n",
       "  <tbody>\n",
       "    <tr>\n",
       "      <th>0</th>\n",
       "      <td>19.0</td>\n",
       "      <td>39.0</td>\n",
       "    </tr>\n",
       "    <tr>\n",
       "      <th>1</th>\n",
       "      <td>21.0</td>\n",
       "      <td>81.0</td>\n",
       "    </tr>\n",
       "    <tr>\n",
       "      <th>2</th>\n",
       "      <td>20.0</td>\n",
       "      <td>6.0</td>\n",
       "    </tr>\n",
       "    <tr>\n",
       "      <th>3</th>\n",
       "      <td>23.0</td>\n",
       "      <td>77.0</td>\n",
       "    </tr>\n",
       "    <tr>\n",
       "      <th>4</th>\n",
       "      <td>31.0</td>\n",
       "      <td>40.0</td>\n",
       "    </tr>\n",
       "    <tr>\n",
       "      <th>...</th>\n",
       "      <td>...</td>\n",
       "      <td>...</td>\n",
       "    </tr>\n",
       "    <tr>\n",
       "      <th>244</th>\n",
       "      <td>27.0</td>\n",
       "      <td>69.0</td>\n",
       "    </tr>\n",
       "    <tr>\n",
       "      <th>245</th>\n",
       "      <td>59.0</td>\n",
       "      <td>14.0</td>\n",
       "    </tr>\n",
       "    <tr>\n",
       "      <th>246</th>\n",
       "      <td>35.0</td>\n",
       "      <td>90.0</td>\n",
       "    </tr>\n",
       "    <tr>\n",
       "      <th>247</th>\n",
       "      <td>37.0</td>\n",
       "      <td>32.0</td>\n",
       "    </tr>\n",
       "    <tr>\n",
       "      <th>248</th>\n",
       "      <td>32.0</td>\n",
       "      <td>86.0</td>\n",
       "    </tr>\n",
       "  </tbody>\n",
       "</table>\n",
       "<p>246 rows × 2 columns</p>\n",
       "</div>"
      ],
      "text/plain": [
       "     Umur  Skor Belanja (1-100)\n",
       "0    19.0                  39.0\n",
       "1    21.0                  81.0\n",
       "2    20.0                   6.0\n",
       "3    23.0                  77.0\n",
       "4    31.0                  40.0\n",
       "..    ...                   ...\n",
       "244  27.0                  69.0\n",
       "245  59.0                  14.0\n",
       "246  35.0                  90.0\n",
       "247  37.0                  32.0\n",
       "248  32.0                  86.0\n",
       "\n",
       "[246 rows x 2 columns]"
      ]
     },
     "execution_count": 29,
     "metadata": {},
     "output_type": "execute_result"
    }
   ],
   "source": [
    "df_scale = df[['Umur', 'Skor Belanja (1-100)']].copy()\n",
    "df_scale"
   ]
  },
  {
   "cell_type": "code",
   "execution_count": 30,
   "metadata": {
    "id": "XGv9ODV8G-Hc",
    "scrolled": true
   },
   "outputs": [
    {
     "data": {
      "text/plain": [
       "array([[-1.45540807e+00, -3.96862497e-01],\n",
       "       [-1.30503831e+00,  1.12123573e+00],\n",
       "       [-1.38022319e+00, -1.58965396e+00],\n",
       "       [-1.15466856e+00,  9.76654949e-01],\n",
       "       [-5.53189542e-01, -3.60717301e-01],\n",
       "       [-1.22985343e+00,  9.40509753e-01],\n",
       "       [-2.52450034e-01, -1.58965396e+00],\n",
       "       [-1.15466856e+00,  1.59112328e+00],\n",
       "       [ 1.92791140e+00, -1.69808955e+00],\n",
       "       [-6.28374419e-01,  7.95928969e-01],\n",
       "       [ 2.15346603e+00, -1.30049240e+00],\n",
       "       [-2.52450034e-01,  1.77184926e+00],\n",
       "       [ 1.47680214e+00, -1.26434720e+00],\n",
       "       [-1.07948368e+00,  9.76654949e-01],\n",
       "       [-1.02080280e-01, -1.33663759e+00],\n",
       "       [-1.22985343e+00,  1.04894534e+00],\n",
       "       [-1.38022319e+00,  5.79057793e-01],\n",
       "       [ 1.02569287e+00, -7.58314456e-01],\n",
       "       [-2.52450034e-01,  1.73570406e+00],\n",
       "       [-2.52450034e-01, -5.41443281e-01],\n",
       "       [-1.00429880e+00,  8.32074165e-01],\n",
       "       [ 5.74583613e-01, -1.62579916e+00],\n",
       "       [-5.53189542e-01,  8.32074165e-01],\n",
       "       [ 1.17606263e+00, -1.30049240e+00],\n",
       "       [-7.03559296e-01,  1.15738093e+00],\n",
       "       [ 4.99398736e-01, -6.49878868e-01],\n",
       "       [-2.52450034e-01,  3.98331814e-01],\n",
       "       [ 1.23474351e-01, -6.86024064e-01],\n",
       "       [-1.15466856e+00,  1.33810691e+00],\n",
       "       [ 1.62717189e+00, -1.66194435e+00],\n",
       "       [-1.30503831e+00,  8.32074165e-01],\n",
       "       [ 1.10087775e+00, -1.66194435e+00],\n",
       "       [-1.53059294e+00,  1.51883289e+00],\n",
       "       [ 8.00138243e-01, -1.30049240e+00],\n",
       "       [-1.30503831e+00,  1.12123573e+00],\n",
       "       [ 2.73844105e-01, -1.19205681e+00],\n",
       "       [-6.28374419e-01,  8.32074165e-01],\n",
       "       [-1.77265157e-01, -8.66750044e-01],\n",
       "       [-1.38022319e+00,  9.04364557e-01],\n",
       "       [ 2.00309627e+00, -5.41443281e-01],\n",
       "       [-1.07948368e+00,  1.51883289e+00],\n",
       "       [ 7.24953366e-01, -5.05298085e-01],\n",
       "       [-5.53189542e-01,  3.98331814e-01],\n",
       "       [ 8.00138243e-01, -7.94459652e-01],\n",
       "       [-1.07948368e+00,  5.42912597e-01],\n",
       "       [ 8.75323120e-01,  1.81460638e-01],\n",
       "       [-8.53929050e-01, -1.07700929e-01],\n",
       "       [-7.03559296e-01, -2.88426909e-01],\n",
       "       [-5.53189542e-01, -2.88426909e-01],\n",
       "       [ 8.00138243e-01,  7.30250503e-02],\n",
       "       [-4.02819788e-01,  3.62186618e-01],\n",
       "       [-5.53189542e-01,  1.45315442e-01],\n",
       "       [ 1.55198701e+00,  3.62186618e-01],\n",
       "       [ 8.75323120e-01, -1.79991321e-01],\n",
       "       [ 6.49768489e-01, -3.24572105e-01],\n",
       "       [ 9.50507997e-01,  7.34658454e-04],\n",
       "       [ 2.30383578e+00, -1.43846125e-01],\n",
       "       [-8.53929050e-01,  3.68798544e-02],\n",
       "       [ 1.10087775e+00, -1.43846125e-01],\n",
       "       [ 2.37902066e+00,  2.17605834e-01],\n",
       "       [-1.45540807e+00,  2.17605834e-01],\n",
       "       [ 2.15346603e+00,  7.30250503e-02],\n",
       "       [ 1.17606263e+00,  3.26041422e-01],\n",
       "       [ 1.85272652e+00,  3.68798544e-02],\n",
       "       [-1.53059294e+00,  3.26041422e-01],\n",
       "       [ 3.49028982e-01,  7.34658454e-04],\n",
       "       [ 2.22865091e+00, -7.15557334e-02],\n",
       "       [-1.45540807e+00,  3.26041422e-01],\n",
       "       [-4.78004665e-01, -1.07700929e-01],\n",
       "       [ 2.37902066e+00,  1.81460638e-01],\n",
       "       [ 6.49768489e-01, -2.88426909e-01],\n",
       "       [ 1.62717189e+00, -3.54105375e-02],\n",
       "       [ 1.62717189e+00,  2.17605834e-01],\n",
       "       [ 1.55198701e+00, -1.07700929e-01],\n",
       "       [-9.29113927e-01,  1.45315442e-01],\n",
       "       [ 4.99398736e-01,  1.09170246e-01],\n",
       "       [ 1.23474351e-01, -7.15557334e-02],\n",
       "       [-1.15466856e+00,  7.30250503e-02],\n",
       "       [ 8.00138243e-01, -2.88426909e-01],\n",
       "       [ 1.40161726e+00,  3.68798544e-02],\n",
       "       [-2.68954031e-02,  1.81460638e-01],\n",
       "       [ 2.15346603e+00, -3.24572105e-01],\n",
       "       [ 5.74583613e-01, -2.16136517e-01],\n",
       "       [-1.30503831e+00,  2.53751030e-01],\n",
       "       [ 7.24953366e-01, -1.43846125e-01],\n",
       "       [ 1.25124751e+00,  2.89896226e-01],\n",
       "       [-1.22985343e+00,  1.81460638e-01],\n",
       "       [-3.27634911e-01,  3.62186618e-01],\n",
       "       [ 8.75323120e-01, -1.43846125e-01],\n",
       "       [ 2.22865091e+00,  1.81460638e-01],\n",
       "       [-1.53059294e+00, -3.24572105e-01],\n",
       "       [ 7.24953366e-01, -3.54105375e-02],\n",
       "       [ 1.23474351e-01, -3.60717301e-01],\n",
       "       [-4.78004665e-01, -3.60717301e-01],\n",
       "       [-1.07948368e+00,  7.30250503e-02],\n",
       "       [ 6.49768489e-01, -1.07700929e-01],\n",
       "       [-8.53929050e-01,  7.34658454e-04],\n",
       "       [ 7.24953366e-01, -2.88426909e-01],\n",
       "       [-1.38022319e+00, -3.54105375e-02],\n",
       "       [-1.15466856e+00, -3.24572105e-01],\n",
       "       [ 8.00138243e-01, -7.15557334e-02],\n",
       "       [ 2.15346603e+00,  3.26041422e-01],\n",
       "       [-9.29113927e-01,  1.81460638e-01],\n",
       "       [ 8.00138243e-01,  2.17605834e-01],\n",
       "       [-1.30503831e+00, -2.88426909e-01],\n",
       "       [ 2.07828115e+00,  7.34658454e-04],\n",
       "       [ 1.17606263e+00, -1.43846125e-01],\n",
       "       [ 2.22865091e+00, -2.52281713e-01],\n",
       "       [ 2.07828115e+00, -7.15557334e-02],\n",
       "       [ 2.00309627e+00,  7.30250503e-02],\n",
       "       [-1.45540807e+00,  1.45315442e-01],\n",
       "       [-2.68954031e-02, -2.88426909e-01],\n",
       "       [-1.45540807e+00, -1.43846125e-01],\n",
       "       [-1.53059294e+00, -7.15557334e-02],\n",
       "       [-1.45540807e+00,  7.34658454e-04],\n",
       "       [ 1.85272652e+00, -2.52281713e-01],\n",
       "       [ 8.00138243e-01, -2.52281713e-01],\n",
       "       [ 9.50507997e-01, -2.52281713e-01],\n",
       "       [ 8.75323120e-01,  2.53751030e-01],\n",
       "       [-8.53929050e-01,  2.17605834e-01],\n",
       "       [-2.68954031e-02, -3.60717301e-01],\n",
       "       [ 1.23474351e-01,  2.89896226e-01],\n",
       "       [ 4.82894738e-02,  1.48268769e+00],\n",
       "       [-1.15466856e+00, -7.58314456e-01],\n",
       "       [-5.53189542e-01,  9.76654949e-01],\n",
       "       [ 3.49028982e-01, -5.41443281e-01],\n",
       "       [ 1.23474351e-01,  1.62726848e+00],\n",
       "       [ 1.55198701e+00, -1.40892798e+00],\n",
       "       [-2.68954031e-02,  9.04364557e-01],\n",
       "       [ 6.49768489e-01, -1.48121837e+00],\n",
       "       [ 4.82894738e-02,  9.04364557e-01],\n",
       "       [-1.00429880e+00, -5.77588476e-01],\n",
       "       [-5.53189542e-01,  7.59783773e-01],\n",
       "       [-1.38022319e+00, -1.62579916e+00],\n",
       "       [-7.03559296e-01,  1.37425210e+00],\n",
       "       [ 4.24213859e-01, -1.55350877e+00],\n",
       "       [-4.78004665e-01,  8.32074165e-01],\n",
       "       [-1.45540807e+00, -1.44507318e+00],\n",
       "       [-2.52450034e-01,  7.95928969e-01],\n",
       "       [ 1.40161726e+00, -1.62579916e+00],\n",
       "       [-4.78004665e-01,  1.55497808e+00],\n",
       "       [-7.78744173e-01, -3.60717301e-01],\n",
       "       [-4.78004665e-01,  1.33810691e+00],\n",
       "       [-1.00429880e+00, -1.37278279e+00],\n",
       "       [-7.78744173e-01,  1.69955887e+00],\n",
       "       [ 7.24953366e-01, -5.05298085e-01],\n",
       "       [-4.78004665e-01,  8.68219361e-01],\n",
       "       [-3.27634911e-01, -1.01133083e+00],\n",
       "       [-3.27634911e-01,  1.44654250e+00],\n",
       "       [ 3.49028982e-01, -1.19205681e+00],\n",
       "       [ 4.82894738e-02,  1.37425210e+00],\n",
       "       [ 4.24213859e-01, -1.08362122e+00],\n",
       "       [-2.68954031e-02,  9.40509753e-01],\n",
       "       [ 6.49768489e-01, -1.22820200e+00],\n",
       "       [-8.53929050e-01,  1.41039730e+00],\n",
       "       [-1.02080280e-01, -1.66194435e+00],\n",
       "       [-6.28374419e-01,  1.01280014e+00],\n",
       "       [-3.27634911e-01, -1.62579916e+00],\n",
       "       [-6.28374419e-01,  8.32074165e-01],\n",
       "       [ 1.32643238e+00, -5.41443281e-01],\n",
       "       [-7.03559296e-01,  1.19352612e+00],\n",
       "       [-1.45540807e+00, -1.62579916e+00],\n",
       "       [-5.53189542e-01,  1.55497808e+00],\n",
       "       [ 8.75323120e-01, -8.66750044e-01],\n",
       "       [-1.77265157e-01,  9.04364557e-01],\n",
       "       [ 2.73844105e-01, -1.08362122e+00],\n",
       "       [-4.02819788e-01,  1.62726848e+00],\n",
       "       [-1.77265157e-01, -8.30604848e-01],\n",
       "       [-4.78004665e-01,  4.70622206e-01],\n",
       "       [ 1.23474351e-01, -1.33663759e+00],\n",
       "       [-7.78744173e-01,  9.04364557e-01],\n",
       "       [-1.77265157e-01, -1.44507318e+00],\n",
       "       [-1.77265157e-01,  1.51883289e+00],\n",
       "       [ 1.02569287e+00, -1.33663759e+00],\n",
       "       [-6.28374419e-01,  1.30196171e+00],\n",
       "       [ 1.47680214e+00, -1.26434720e+00],\n",
       "       [-8.53929050e-01, -1.62579916e+00],\n",
       "       [ 1.55198701e+00, -1.30049240e+00],\n",
       "       [-2.52450034e-01,  1.44654250e+00],\n",
       "       [-1.02080280e-01, -6.49878868e-01],\n",
       "       [-4.78004665e-01,  1.30196171e+00],\n",
       "       [ 5.74583613e-01, -1.26434720e+00],\n",
       "       [-7.03559296e-01,  1.37425210e+00],\n",
       "       [ 1.98659228e-01, -3.96862497e-01],\n",
       "       [-6.28374419e-01,  1.69955887e+00],\n",
       "       [ 1.17606263e+00, -9.39040436e-01],\n",
       "       [-7.78744173e-01,  6.51348185e-01],\n",
       "       [ 1.98659228e-01, -1.19205681e+00],\n",
       "       [-1.77265157e-01,  1.26581652e+00],\n",
       "       [-3.27634911e-01, -9.75185632e-01],\n",
       "       [-4.78004665e-01,  6.87493381e-01],\n",
       "       [-4.02819788e-01, -1.51736357e+00],\n",
       "       [-2.68954031e-02,  1.48268769e+00],\n",
       "       [ 6.49768489e-01, -1.22820200e+00],\n",
       "       [-2.52450034e-01,  1.04894534e+00],\n",
       "       [ 4.99398736e-01, -7.94459652e-01],\n",
       "       [-4.78004665e-01,  8.68219361e-01],\n",
       "       [-5.53189542e-01,  7.59783773e-01],\n",
       "       [-1.38022319e+00, -1.62579916e+00],\n",
       "       [-7.03559296e-01,  1.37425210e+00],\n",
       "       [ 4.24213859e-01, -1.55350877e+00],\n",
       "       [-4.78004665e-01,  8.32074165e-01],\n",
       "       [-1.45540807e+00, -1.44507318e+00],\n",
       "       [-2.52450034e-01,  7.95928969e-01],\n",
       "       [ 1.40161726e+00, -1.62579916e+00],\n",
       "       [-4.78004665e-01,  1.55497808e+00],\n",
       "       [-4.78004665e-01, -3.60717301e-01],\n",
       "       [-4.78004665e-01,  1.33810691e+00],\n",
       "       [-1.00429880e+00, -1.37278279e+00],\n",
       "       [-7.78744173e-01,  1.69955887e+00],\n",
       "       [ 7.24953366e-01, -5.05298085e-01],\n",
       "       [-4.78004665e-01,  8.68219361e-01],\n",
       "       [-3.27634911e-01, -1.01133083e+00],\n",
       "       [-3.27634911e-01,  1.44654250e+00],\n",
       "       [ 3.49028982e-01, -1.19205681e+00],\n",
       "       [ 4.82894738e-02,  1.37425210e+00],\n",
       "       [ 4.24213859e-01, -1.08362122e+00],\n",
       "       [-2.68954031e-02,  9.40509753e-01],\n",
       "       [ 6.49768489e-01, -1.22820200e+00],\n",
       "       [-8.53929050e-01,  1.41039730e+00],\n",
       "       [-1.02080280e-01, -1.62579916e+00],\n",
       "       [-6.28374419e-01,  1.01280014e+00],\n",
       "       [-6.28374419e-01, -1.66194435e+00],\n",
       "       [-6.28374419e-01,  8.32074165e-01],\n",
       "       [ 1.32643238e+00, -5.41443281e-01],\n",
       "       [-7.03559296e-01,  1.19352612e+00],\n",
       "       [-1.45540807e+00, -1.62579916e+00],\n",
       "       [-5.53189542e-01,  1.55497808e+00],\n",
       "       [ 8.75323120e-01, -8.66750044e-01],\n",
       "       [-1.77265157e-01,  9.04364557e-01],\n",
       "       [ 2.73844105e-01, -1.08362122e+00],\n",
       "       [-4.02819788e-01,  1.62726848e+00],\n",
       "       [-1.77265157e-01, -8.30604848e-01],\n",
       "       [-4.78004665e-01,  4.70622206e-01],\n",
       "       [ 1.23474351e-01, -1.33663759e+00],\n",
       "       [-7.78744173e-01,  9.04364557e-01],\n",
       "       [-1.77265157e-01, -1.44507318e+00],\n",
       "       [-1.77265157e-01,  1.51883289e+00],\n",
       "       [ 1.02569287e+00, -1.33663759e+00],\n",
       "       [-6.28374419e-01,  1.30196171e+00],\n",
       "       [ 1.47680214e+00, -1.26434720e+00],\n",
       "       [-8.53929050e-01,  6.87493381e-01],\n",
       "       [ 1.55198701e+00, -1.30049240e+00],\n",
       "       [-2.52450034e-01,  1.44654250e+00],\n",
       "       [-1.02080280e-01, -6.49878868e-01],\n",
       "       [-4.78004665e-01,  1.30196171e+00]])"
      ]
     },
     "execution_count": 30,
     "metadata": {},
     "output_type": "execute_result"
    }
   ],
   "source": [
    "#feature scaling\n",
    "\n",
    "from sklearn.preprocessing import StandardScaler\n",
    "\n",
    "sc = StandardScaler()\n",
    "scaled_data = sc.fit_transform(df_scale)\n",
    "\n",
    "scaled_data"
   ]
  },
  {
   "cell_type": "markdown",
   "metadata": {
    "id": "sQYs6ldnZt4y"
   },
   "source": [
    "**Expected Output (Hasil yang ditampilkan hanya sebagian):**\n",
    "\n",
    "![](https://puu.sh/IIOZx/c4bae0561e.png)"
   ]
  },
  {
   "cell_type": "code",
   "execution_count": 31,
   "metadata": {},
   "outputs": [
    {
     "data": {
      "text/html": [
       "<div>\n",
       "<style scoped>\n",
       "    .dataframe tbody tr th:only-of-type {\n",
       "        vertical-align: middle;\n",
       "    }\n",
       "\n",
       "    .dataframe tbody tr th {\n",
       "        vertical-align: top;\n",
       "    }\n",
       "\n",
       "    .dataframe thead th {\n",
       "        text-align: right;\n",
       "    }\n",
       "</style>\n",
       "<table border=\"1\" class=\"dataframe\">\n",
       "  <thead>\n",
       "    <tr style=\"text-align: right;\">\n",
       "      <th></th>\n",
       "      <th>Umur</th>\n",
       "      <th>Skor Belanja (1-100)</th>\n",
       "    </tr>\n",
       "  </thead>\n",
       "  <tbody>\n",
       "    <tr>\n",
       "      <th>0</th>\n",
       "      <td>-1.455408</td>\n",
       "      <td>-0.396862</td>\n",
       "    </tr>\n",
       "    <tr>\n",
       "      <th>1</th>\n",
       "      <td>-1.305038</td>\n",
       "      <td>1.121236</td>\n",
       "    </tr>\n",
       "    <tr>\n",
       "      <th>2</th>\n",
       "      <td>-1.380223</td>\n",
       "      <td>-1.589654</td>\n",
       "    </tr>\n",
       "    <tr>\n",
       "      <th>3</th>\n",
       "      <td>-1.154669</td>\n",
       "      <td>0.976655</td>\n",
       "    </tr>\n",
       "    <tr>\n",
       "      <th>4</th>\n",
       "      <td>-0.553190</td>\n",
       "      <td>-0.360717</td>\n",
       "    </tr>\n",
       "    <tr>\n",
       "      <th>...</th>\n",
       "      <td>...</td>\n",
       "      <td>...</td>\n",
       "    </tr>\n",
       "    <tr>\n",
       "      <th>241</th>\n",
       "      <td>-0.853929</td>\n",
       "      <td>0.687493</td>\n",
       "    </tr>\n",
       "    <tr>\n",
       "      <th>242</th>\n",
       "      <td>1.551987</td>\n",
       "      <td>-1.300492</td>\n",
       "    </tr>\n",
       "    <tr>\n",
       "      <th>243</th>\n",
       "      <td>-0.252450</td>\n",
       "      <td>1.446542</td>\n",
       "    </tr>\n",
       "    <tr>\n",
       "      <th>244</th>\n",
       "      <td>-0.102080</td>\n",
       "      <td>-0.649879</td>\n",
       "    </tr>\n",
       "    <tr>\n",
       "      <th>245</th>\n",
       "      <td>-0.478005</td>\n",
       "      <td>1.301962</td>\n",
       "    </tr>\n",
       "  </tbody>\n",
       "</table>\n",
       "<p>246 rows × 2 columns</p>\n",
       "</div>"
      ],
      "text/plain": [
       "         Umur  Skor Belanja (1-100)\n",
       "0   -1.455408             -0.396862\n",
       "1   -1.305038              1.121236\n",
       "2   -1.380223             -1.589654\n",
       "3   -1.154669              0.976655\n",
       "4   -0.553190             -0.360717\n",
       "..        ...                   ...\n",
       "241 -0.853929              0.687493\n",
       "242  1.551987             -1.300492\n",
       "243 -0.252450              1.446542\n",
       "244 -0.102080             -0.649879\n",
       "245 -0.478005              1.301962\n",
       "\n",
       "[246 rows x 2 columns]"
      ]
     },
     "execution_count": 31,
     "metadata": {},
     "output_type": "execute_result"
    }
   ],
   "source": [
    "df_scaled = pd.DataFrame(scaled_data, columns=['Umur', 'Skor Belanja (1-100)'])\n",
    "df_scaled"
   ]
  },
  {
   "cell_type": "markdown",
   "metadata": {
    "id": "6_4IxEFEqwNp"
   },
   "source": [
    "\n",
    "\n",
    "---\n",
    "\n",
    "\n",
    "\n",
    "---\n",
    "\n",
    "\n",
    "\n",
    "---\n",
    "\n"
   ]
  },
  {
   "cell_type": "markdown",
   "metadata": {
    "id": "gPDw48Mmqx7n"
   },
   "source": [
    "# Soal 7\n",
    "\n",
    "*   Lakukan clustering menggunakan kmeans clustering dengan k =2, dan visualisasikan\n",
    "*   Gunakan Elbow method untuk menemukan jumlah k kluster yang tepat\n",
    "*   Gunakan k=3 (rekomendasi methode Elbow) lalu visualisasikan\n",
    "*   Hitung silhoutte Coefficient dari ke dua hasil prediksi klustering tersebut"
   ]
  },
  {
   "cell_type": "code",
   "execution_count": 32,
   "metadata": {
    "id": "MVrICKF8IERW"
   },
   "outputs": [
    {
     "data": {
      "text/plain": [
       "1    125\n",
       "0    121\n",
       "Name: lbl_k2, dtype: int64"
      ]
     },
     "execution_count": 32,
     "metadata": {},
     "output_type": "execute_result"
    }
   ],
   "source": [
    "#clustering n=2\n",
    "from sklearn.cluster import KMeans\n",
    "k2 = KMeans(n_clusters=2, random_state=9)\n",
    "\n",
    "k2.fit(df_scaled)\n",
    "df_scaled['lbl_k2'] = k2.labels_\n",
    "\n",
    "df_scaled\n",
    "df_scaled['lbl_k2'].value_counts()"
   ]
  },
  {
   "cell_type": "code",
   "execution_count": 33,
   "metadata": {},
   "outputs": [
    {
     "name": "stdout",
     "output_type": "stream",
     "text": [
      "[-0.69423886  0.67202321] [ 0.78278526 -0.75773613]\n"
     ]
    }
   ],
   "source": [
    "centroid_k2 =k2.cluster_centers_\n",
    "centroidX_k2 = centroid_k2[:,0]\n",
    "centroidY_k2 = centroid_k2[:,1]\n",
    "\n",
    "print(centroidX_k2, centroidY_k2)"
   ]
  },
  {
   "cell_type": "code",
   "execution_count": 34,
   "metadata": {
    "id": "vT5kkBu_IaKK"
   },
   "outputs": [
    {
     "data": {
      "image/png": "[encoded data removed]",
      "text/plain": [
       "<Figure size 864x576 with 1 Axes>"
      ]
     },
     "metadata": {},
     "output_type": "display_data"
    }
   ],
   "source": [
    "#visualisasi n=2 beserta centroid-centroidnya\n",
    "\n",
    "fig, ax = plt.subplots(figsize=(12,8))\n",
    "\n",
    "colorDict = {0 :'blue', 1: 'red'}\n",
    "\n",
    "# Plot data\n",
    "ax.scatter(df_scaled['Umur'], df_scaled[\"Skor Belanja (1-100)\"],\n",
    "           s=100,\n",
    "          c= df_scaled['lbl_k2'].map(colorDict), alpha = 0.75, zorder=2,\n",
    "          edgecolors= \"black\")\n",
    "\n",
    "# Plot centroid\n",
    "ax.scatter(centroidX_k2, centroidY_k2,\n",
    "           s=300,\n",
    "          c='black', marker='o', zorder=3)\n",
    "\n",
    "# Label diagram\n",
    "ax.set_xlabel('Umur')\n",
    "ax.set_ylabel('Skor Belanja (1-100)')\n",
    "\n",
    "plt.show()"
   ]
  },
  {
   "cell_type": "code",
   "execution_count": 35,
   "metadata": {
    "id": "7Ah0fMJSLlC6"
   },
   "outputs": [],
   "source": [
    "#elbow method beserta visualisasinya\n",
    "def elbowMethod (X, k_min=1, k_max=10, save=False):\n",
    "    k_range = range(k_min, k_max+1)\n",
    "    \n",
    "    result = []\n",
    "    for k in k_range:\n",
    "        model = KMeans(n_clusters=k, random_state=20)\n",
    "        model.fit(X)\n",
    "        result.append(model.inertia_)\n",
    "        \n",
    "    fig, ax = plt.subplots(figsize=(10,6))\n",
    "    \n",
    "    ax.plot(k_range, result)\n",
    "    \n",
    "    plt.title('Elbow Method')\n",
    "    plt.xlabel('n_cluster')\n",
    "    plt.ylabel('WCSS')\n",
    "    \n",
    "#     Untuk Kasih value ke titik patahan\n",
    "#     for i, value in enumerate(result):\n",
    "#         ax.text(i + 1.15, value - 0.005, round(value,2))\n",
    "\n",
    "    plt.show()\n",
    "    print(k_range)"
   ]
  },
  {
   "cell_type": "code",
   "execution_count": 36,
   "metadata": {},
   "outputs": [
    {
     "data": {
      "image/png": "[encoded data removed]",
      "text/plain": [
       "<Figure size 720x432 with 1 Axes>"
      ]
     },
     "metadata": {},
     "output_type": "display_data"
    },
    {
     "name": "stdout",
     "output_type": "stream",
     "text": [
      "range(1, 11)\n"
     ]
    }
   ],
   "source": [
    "elbowMethod(df_scaled)"
   ]
  },
  {
   "cell_type": "code",
   "execution_count": 37,
   "metadata": {
    "id": "YZ86o5ggrLXg"
   },
   "outputs": [
    {
     "data": {
      "text/html": [
       "<div>\n",
       "<style scoped>\n",
       "    .dataframe tbody tr th:only-of-type {\n",
       "        vertical-align: middle;\n",
       "    }\n",
       "\n",
       "    .dataframe tbody tr th {\n",
       "        vertical-align: top;\n",
       "    }\n",
       "\n",
       "    .dataframe thead th {\n",
       "        text-align: right;\n",
       "    }\n",
       "</style>\n",
       "<table border=\"1\" class=\"dataframe\">\n",
       "  <thead>\n",
       "    <tr style=\"text-align: right;\">\n",
       "      <th></th>\n",
       "      <th>Umur</th>\n",
       "      <th>Skor Belanja (1-100)</th>\n",
       "      <th>lbl_k2</th>\n",
       "      <th>lbl_k3</th>\n",
       "    </tr>\n",
       "  </thead>\n",
       "  <tbody>\n",
       "    <tr>\n",
       "      <th>0</th>\n",
       "      <td>-1.455408</td>\n",
       "      <td>-0.396862</td>\n",
       "      <td>0</td>\n",
       "      <td>0</td>\n",
       "    </tr>\n",
       "    <tr>\n",
       "      <th>1</th>\n",
       "      <td>-1.305038</td>\n",
       "      <td>1.121236</td>\n",
       "      <td>0</td>\n",
       "      <td>0</td>\n",
       "    </tr>\n",
       "    <tr>\n",
       "      <th>2</th>\n",
       "      <td>-1.380223</td>\n",
       "      <td>-1.589654</td>\n",
       "      <td>1</td>\n",
       "      <td>1</td>\n",
       "    </tr>\n",
       "    <tr>\n",
       "      <th>3</th>\n",
       "      <td>-1.154669</td>\n",
       "      <td>0.976655</td>\n",
       "      <td>0</td>\n",
       "      <td>0</td>\n",
       "    </tr>\n",
       "    <tr>\n",
       "      <th>4</th>\n",
       "      <td>-0.553190</td>\n",
       "      <td>-0.360717</td>\n",
       "      <td>0</td>\n",
       "      <td>0</td>\n",
       "    </tr>\n",
       "    <tr>\n",
       "      <th>...</th>\n",
       "      <td>...</td>\n",
       "      <td>...</td>\n",
       "      <td>...</td>\n",
       "      <td>...</td>\n",
       "    </tr>\n",
       "    <tr>\n",
       "      <th>241</th>\n",
       "      <td>-0.853929</td>\n",
       "      <td>0.687493</td>\n",
       "      <td>0</td>\n",
       "      <td>0</td>\n",
       "    </tr>\n",
       "    <tr>\n",
       "      <th>242</th>\n",
       "      <td>1.551987</td>\n",
       "      <td>-1.300492</td>\n",
       "      <td>1</td>\n",
       "      <td>2</td>\n",
       "    </tr>\n",
       "    <tr>\n",
       "      <th>243</th>\n",
       "      <td>-0.252450</td>\n",
       "      <td>1.446542</td>\n",
       "      <td>0</td>\n",
       "      <td>0</td>\n",
       "    </tr>\n",
       "    <tr>\n",
       "      <th>244</th>\n",
       "      <td>-0.102080</td>\n",
       "      <td>-0.649879</td>\n",
       "      <td>1</td>\n",
       "      <td>1</td>\n",
       "    </tr>\n",
       "    <tr>\n",
       "      <th>245</th>\n",
       "      <td>-0.478005</td>\n",
       "      <td>1.301962</td>\n",
       "      <td>0</td>\n",
       "      <td>0</td>\n",
       "    </tr>\n",
       "  </tbody>\n",
       "</table>\n",
       "<p>246 rows × 4 columns</p>\n",
       "</div>"
      ],
      "text/plain": [
       "         Umur  Skor Belanja (1-100)  lbl_k2  lbl_k3\n",
       "0   -1.455408             -0.396862       0       0\n",
       "1   -1.305038              1.121236       0       0\n",
       "2   -1.380223             -1.589654       1       1\n",
       "3   -1.154669              0.976655       0       0\n",
       "4   -0.553190             -0.360717       0       0\n",
       "..        ...                   ...     ...     ...\n",
       "241 -0.853929              0.687493       0       0\n",
       "242  1.551987             -1.300492       1       2\n",
       "243 -0.252450              1.446542       0       0\n",
       "244 -0.102080             -0.649879       1       1\n",
       "245 -0.478005              1.301962       0       0\n",
       "\n",
       "[246 rows x 4 columns]"
      ]
     },
     "execution_count": 37,
     "metadata": {},
     "output_type": "execute_result"
    }
   ],
   "source": [
    "#clustering n=3\n",
    "k3 = KMeans(n_clusters=3, random_state=9)\n",
    "\n",
    "k3.fit(df_scaled)\n",
    "df_scaled['lbl_k3'] = k3.labels_\n",
    "\n",
    "df_scaled\n",
    "# df_scaled['lbl_k3'].value_counts()"
   ]
  },
  {
   "cell_type": "code",
   "execution_count": 38,
   "metadata": {},
   "outputs": [
    {
     "name": "stdout",
     "output_type": "stream",
     "text": [
      "[-0.69040194 -0.1429703   1.31880493] [ 0.79562776 -1.15400923 -0.43038848]\n"
     ]
    }
   ],
   "source": [
    "centroid_k3 =k3.cluster_centers_\n",
    "centroidX_k3 = centroid_k3[:,0]\n",
    "centroidY_k3 = centroid_k3[:,1]\n",
    "\n",
    "print(centroidX_k3, centroidY_k3)"
   ]
  },
  {
   "cell_type": "code",
   "execution_count": 39,
   "metadata": {
    "id": "372Hy7u4Zt41"
   },
   "outputs": [
    {
     "data": {
      "image/png": "[encoded data removed]",
      "text/plain": [
       "<Figure size 864x576 with 1 Axes>"
      ]
     },
     "metadata": {},
     "output_type": "display_data"
    }
   ],
   "source": [
    "#visualisasi n=3 beserta centroid-centroidnya\n",
    "# from sklearn.metrics import silhouette_score\n",
    "\n",
    "fig, ax = plt.subplots(figsize=(12,8))\n",
    "\n",
    "colorDict = {0 :'green', 1 :'blue', 2: 'red'}\n",
    "\n",
    "# Plot data\n",
    "ax.scatter(df_scaled['Umur'], df_scaled[\"Skor Belanja (1-100)\"],\n",
    "           s=100,\n",
    "          c= df_scaled['lbl_k3'].map(colorDict), alpha = 0.75, zorder=2,\n",
    "          edgecolors= \"black\")\n",
    "\n",
    "# Plot centroid\n",
    "ax.scatter(centroidX_k3, centroidY_k3,\n",
    "           s=300,\n",
    "          c='black', marker='o', zorder=3)\n",
    "\n",
    "# Label diagram\n",
    "ax.set_xlabel('Umur')\n",
    "ax.set_ylabel('Skor Belanja (1-100)')\n",
    "\n",
    "# Set Legend\n",
    "markers = [ plt.Line2D( [0,0],[0,0], color = color, marker='o', linestyle='' ) for color in colorDict.values() ]\n",
    "plt.legend(markers, list(colorDict.keys())[:4], prop={'size': 13})\n",
    "\n",
    "plt.show()"
   ]
  },
  {
   "cell_type": "code",
   "execution_count": 49,
   "metadata": {},
   "outputs": [
    {
     "name": "stdout",
     "output_type": "stream",
     "text": [
      "0.5789377291611564\n",
      "0.5653165648755673\n"
     ]
    }
   ],
   "source": [
    "#tampilan silhoutte score untuk n=2 dan n=3\n",
    "label2 = k2.labels_\n",
    "label3 = k3.labels_\n",
    "\n",
    "print(silhouette_score(df_scaled, labels = label2))\n",
    "print(silhouette_score(df_scaled, labels = label3))"
   ]
  },
  {
   "cell_type": "code",
   "execution_count": 52,
   "metadata": {},
   "outputs": [
    {
     "data": {
      "text/plain": [
       "array([0, 0, 1, 0, 0, 0, 1, 0, 1, 0, 1, 0, 1, 0, 1, 0, 0, 1, 0, 1, 0, 1,\n",
       "       0, 1, 0, 1, 0, 1, 0, 1, 0, 1, 0, 1, 0, 1, 0, 1, 0, 1, 0, 1, 0, 1,\n",
       "       0, 1, 0, 0, 0, 1, 0, 0, 1, 1, 1, 1, 1, 0, 1, 1, 0, 1, 1, 1, 0, 1,\n",
       "       1, 0, 0, 1, 1, 1, 1, 1, 0, 1, 1, 0, 1, 1, 0, 1, 1, 0, 1, 1, 0, 0,\n",
       "       1, 1, 0, 1, 1, 0, 0, 1, 0, 1, 0, 0, 1, 1, 0, 1, 0, 1, 1, 1, 1, 1,\n",
       "       0, 1, 0, 0, 0, 1, 1, 1, 1, 0, 1, 0, 0, 0, 0, 1, 0, 1, 0, 1, 0, 0,\n",
       "       0, 1, 0, 1, 0, 1, 0, 1, 0, 0, 0, 1, 0, 1, 0, 1, 0, 1, 0, 1, 0, 1,\n",
       "       0, 1, 0, 1, 0, 1, 0, 1, 0, 1, 0, 1, 0, 1, 0, 1, 0, 1, 0, 1, 0, 1,\n",
       "       1, 1, 0, 1, 0, 1, 0, 1, 0, 1, 0, 1, 0, 1, 0, 1, 0, 1, 0, 1, 0, 0,\n",
       "       1, 0, 1, 0, 1, 0, 1, 0, 0, 0, 1, 0, 1, 0, 1, 0, 1, 0, 1, 0, 1, 0,\n",
       "       1, 0, 1, 0, 1, 0, 1, 0, 1, 0, 1, 0, 1, 0, 1, 0, 1, 0, 1, 0, 1, 0,\n",
       "       1, 0, 1, 0])"
      ]
     },
     "execution_count": 52,
     "metadata": {},
     "output_type": "execute_result"
    }
   ],
   "source": [
    "k2.labels_"
   ]
  },
  {
   "cell_type": "markdown",
   "metadata": {
    "id": "ffhO8oUcXYy4"
   },
   "source": [
    "**Expected output**\n",
    "\n",
    "cluster 2\n",
    "\n",
    "![](https://drive.google.com/uc?id=1L7nIskGXbeXGhKOzhMWCykJ4jY5538mn)\n",
    "\n",
    "elbow method\n",
    "\n",
    "![](https://drive.google.com/uc?id=1a3OL9FhiQ2-DyJQ8sg8PNzfS9QsszyvU)\n",
    "\n",
    "cluster 3\n",
    "\n",
    "![](https://drive.google.com/uc?id=1UR6vK36oLJinLPtechjJJBtxifmdFOSn)"
   ]
  },
  {
   "cell_type": "markdown",
   "metadata": {
    "id": "eS19gNH_Zt41"
   },
   "source": [
    "---\n",
    "---\n",
    "---\n",
    "\n",
    "## Soal 8. Analyze clustering result\n",
    "\n",
    "Dari hasil klustering diatas, buatlah sebuah analisa segmentasi pelanggan untuk targetted market supermarket.\n",
    "Langkah-langkah:\n",
    "\n",
    "* Buatlah dataframe hasil inverse scaling dari hasil pengerjaan no. 6\n",
    "* Masukkan label hasil clustering K=3 ke data frame baru ini.\n",
    "* Tampilkan kembali scatterplot berdasarkan data frame baru ini\n",
    "* Buatlah uraian analisa dari grafik tersebut\n",
    "* Berikan rekomendasi kepada manajemen supermarket tersebut untuk meningkatkan penjualan"
   ]
  },
  {
   "cell_type": "code",
   "execution_count": 42,
   "metadata": {},
   "outputs": [
    {
     "data": {
      "text/html": [
       "<div>\n",
       "<style scoped>\n",
       "    .dataframe tbody tr th:only-of-type {\n",
       "        vertical-align: middle;\n",
       "    }\n",
       "\n",
       "    .dataframe tbody tr th {\n",
       "        vertical-align: top;\n",
       "    }\n",
       "\n",
       "    .dataframe thead th {\n",
       "        text-align: right;\n",
       "    }\n",
       "</style>\n",
       "<table border=\"1\" class=\"dataframe\">\n",
       "  <thead>\n",
       "    <tr style=\"text-align: right;\">\n",
       "      <th></th>\n",
       "      <th>Umur</th>\n",
       "      <th>Skor Belanja (1-100)</th>\n",
       "    </tr>\n",
       "  </thead>\n",
       "  <tbody>\n",
       "    <tr>\n",
       "      <th>0</th>\n",
       "      <td>19.0</td>\n",
       "      <td>39.0</td>\n",
       "    </tr>\n",
       "    <tr>\n",
       "      <th>1</th>\n",
       "      <td>21.0</td>\n",
       "      <td>81.0</td>\n",
       "    </tr>\n",
       "    <tr>\n",
       "      <th>2</th>\n",
       "      <td>20.0</td>\n",
       "      <td>6.0</td>\n",
       "    </tr>\n",
       "    <tr>\n",
       "      <th>3</th>\n",
       "      <td>23.0</td>\n",
       "      <td>77.0</td>\n",
       "    </tr>\n",
       "    <tr>\n",
       "      <th>4</th>\n",
       "      <td>31.0</td>\n",
       "      <td>40.0</td>\n",
       "    </tr>\n",
       "    <tr>\n",
       "      <th>...</th>\n",
       "      <td>...</td>\n",
       "      <td>...</td>\n",
       "    </tr>\n",
       "    <tr>\n",
       "      <th>241</th>\n",
       "      <td>27.0</td>\n",
       "      <td>69.0</td>\n",
       "    </tr>\n",
       "    <tr>\n",
       "      <th>242</th>\n",
       "      <td>59.0</td>\n",
       "      <td>14.0</td>\n",
       "    </tr>\n",
       "    <tr>\n",
       "      <th>243</th>\n",
       "      <td>35.0</td>\n",
       "      <td>90.0</td>\n",
       "    </tr>\n",
       "    <tr>\n",
       "      <th>244</th>\n",
       "      <td>37.0</td>\n",
       "      <td>32.0</td>\n",
       "    </tr>\n",
       "    <tr>\n",
       "      <th>245</th>\n",
       "      <td>32.0</td>\n",
       "      <td>86.0</td>\n",
       "    </tr>\n",
       "  </tbody>\n",
       "</table>\n",
       "<p>246 rows × 2 columns</p>\n",
       "</div>"
      ],
      "text/plain": [
       "     Umur  Skor Belanja (1-100)\n",
       "0    19.0                  39.0\n",
       "1    21.0                  81.0\n",
       "2    20.0                   6.0\n",
       "3    23.0                  77.0\n",
       "4    31.0                  40.0\n",
       "..    ...                   ...\n",
       "241  27.0                  69.0\n",
       "242  59.0                  14.0\n",
       "243  35.0                  90.0\n",
       "244  37.0                  32.0\n",
       "245  32.0                  86.0\n",
       "\n",
       "[246 rows x 2 columns]"
      ]
     },
     "execution_count": 42,
     "metadata": {},
     "output_type": "execute_result"
    }
   ],
   "source": [
    "inv_scaled = sc.inverse_transform(scaled_data)\n",
    "new_df1 = pd.DataFrame(inv_scaled, columns=['Umur', 'Skor Belanja (1-100)'])\n",
    "new_df1"
   ]
  },
  {
   "cell_type": "code",
   "execution_count": 43,
   "metadata": {
    "id": "XBId02hZJfyK"
   },
   "outputs": [
    {
     "data": {
      "text/html": [
       "<div>\n",
       "<style scoped>\n",
       "    .dataframe tbody tr th:only-of-type {\n",
       "        vertical-align: middle;\n",
       "    }\n",
       "\n",
       "    .dataframe tbody tr th {\n",
       "        vertical-align: top;\n",
       "    }\n",
       "\n",
       "    .dataframe thead th {\n",
       "        text-align: right;\n",
       "    }\n",
       "</style>\n",
       "<table border=\"1\" class=\"dataframe\">\n",
       "  <thead>\n",
       "    <tr style=\"text-align: right;\">\n",
       "      <th></th>\n",
       "      <th>Umur</th>\n",
       "      <th>Skor Belanja (1-100)</th>\n",
       "      <th>label_k3</th>\n",
       "    </tr>\n",
       "  </thead>\n",
       "  <tbody>\n",
       "    <tr>\n",
       "      <th>0</th>\n",
       "      <td>19.0</td>\n",
       "      <td>39.0</td>\n",
       "      <td>0</td>\n",
       "    </tr>\n",
       "    <tr>\n",
       "      <th>1</th>\n",
       "      <td>21.0</td>\n",
       "      <td>81.0</td>\n",
       "      <td>1</td>\n",
       "    </tr>\n",
       "    <tr>\n",
       "      <th>2</th>\n",
       "      <td>20.0</td>\n",
       "      <td>6.0</td>\n",
       "      <td>2</td>\n",
       "    </tr>\n",
       "    <tr>\n",
       "      <th>3</th>\n",
       "      <td>23.0</td>\n",
       "      <td>77.0</td>\n",
       "      <td>1</td>\n",
       "    </tr>\n",
       "    <tr>\n",
       "      <th>4</th>\n",
       "      <td>31.0</td>\n",
       "      <td>40.0</td>\n",
       "      <td>0</td>\n",
       "    </tr>\n",
       "    <tr>\n",
       "      <th>...</th>\n",
       "      <td>...</td>\n",
       "      <td>...</td>\n",
       "      <td>...</td>\n",
       "    </tr>\n",
       "    <tr>\n",
       "      <th>241</th>\n",
       "      <td>27.0</td>\n",
       "      <td>69.0</td>\n",
       "      <td>1</td>\n",
       "    </tr>\n",
       "    <tr>\n",
       "      <th>242</th>\n",
       "      <td>59.0</td>\n",
       "      <td>14.0</td>\n",
       "      <td>2</td>\n",
       "    </tr>\n",
       "    <tr>\n",
       "      <th>243</th>\n",
       "      <td>35.0</td>\n",
       "      <td>90.0</td>\n",
       "      <td>1</td>\n",
       "    </tr>\n",
       "    <tr>\n",
       "      <th>244</th>\n",
       "      <td>37.0</td>\n",
       "      <td>32.0</td>\n",
       "      <td>0</td>\n",
       "    </tr>\n",
       "    <tr>\n",
       "      <th>245</th>\n",
       "      <td>32.0</td>\n",
       "      <td>86.0</td>\n",
       "      <td>1</td>\n",
       "    </tr>\n",
       "  </tbody>\n",
       "</table>\n",
       "<p>246 rows × 3 columns</p>\n",
       "</div>"
      ],
      "text/plain": [
       "     Umur  Skor Belanja (1-100)  label_k3\n",
       "0    19.0                  39.0         0\n",
       "1    21.0                  81.0         1\n",
       "2    20.0                   6.0         2\n",
       "3    23.0                  77.0         1\n",
       "4    31.0                  40.0         0\n",
       "..    ...                   ...       ...\n",
       "241  27.0                  69.0         1\n",
       "242  59.0                  14.0         2\n",
       "243  35.0                  90.0         1\n",
       "244  37.0                  32.0         0\n",
       "245  32.0                  86.0         1\n",
       "\n",
       "[246 rows x 3 columns]"
      ]
     },
     "execution_count": 43,
     "metadata": {},
     "output_type": "execute_result"
    }
   ],
   "source": [
    "#Inverse transform hasil pengerjaan no. 6 kemudian jadikanlah dataframe\n",
    "inv_scaled = sc.inverse_transform(scaled_data)\n",
    "new_df1 = pd.DataFrame(inv_scaled, columns=['Umur', 'Skor Belanja (1-100)'])\n",
    "\n",
    "new_df1['label_k3'] = KMeans(n_clusters=3, random_state=20).fit(new_df1).labels_\n",
    "new_df1"
   ]
  },
  {
   "cell_type": "code",
   "execution_count": 44,
   "metadata": {
    "id": "Sf-6M9oFJ2ob"
   },
   "outputs": [
    {
     "data": {
      "image/png": "[encoded data removed]",
      "text/plain": [
       "<Figure size 864x576 with 1 Axes>"
      ]
     },
     "metadata": {},
     "output_type": "display_data"
    }
   ],
   "source": [
    "#Tampilkan dalam scatterplot\n",
    "\n",
    "fig, ax = plt.subplots(figsize=(12,8))\n",
    "\n",
    "colorDict = {0 :'green', 1 :'blue', 2: 'red'}\n",
    "\n",
    "# Plot data\n",
    "ax.scatter((new_df1['Umur']+abs(new_df1['Umur'].min()))-18, \n",
    "           (new_df1[\"Skor Belanja (1-100)\"]+abs(new_df1[\"Skor Belanja (1-100)\"].min())),\n",
    "           s=100,\n",
    "          c= new_df1['label_k3'].map(colorDict), alpha = 0.75, zorder=1,)\n",
    "\n",
    "\n",
    "# Label diagram\n",
    "ax.set_title('Customer Cluster')\n",
    "ax.set_xlabel('Umur')\n",
    "ax.set_ylabel('Skor Belanja (1-100)')\n",
    "\n",
    "# Set Legend\n",
    "markers = [ plt.Line2D( [0,0],[0,0], color = color, marker='o', linestyle='' ) for color in colorDict.values() ]\n",
    "plt.legend(markers, list(colorDict.keys())[:4], prop={'size': 13})\n",
    "\n",
    "plt.show()"
   ]
  },
  {
   "cell_type": "markdown",
   "metadata": {
    "id": "sz_piZCGZt42"
   },
   "source": [
    "\\[Tulis uraian analisis grafik yang sudah anda buat di sini\\]"
   ]
  },
  {
   "cell_type": "raw",
   "metadata": {},
   "source": [
    "Pada diagram diatas terdapat 3 pengelompokan dimana secara berurut diberi warna berbeda yaitu hijau, biru, dan merah. Pengelompokan pertama yaitu berwarna hijau yang pelanggan berumur 0-(kurang lebih 70) dengan skor belanja 30-70. Pengelompokan kedua yaitu berwarna biru yang pelanggannya berumur 0-(kurang lebih 40) denga skor belanja 60-(kurang lebih 100). Pengelompokan kedua yaitu berwarna merah yang pelanggannya berumut 0-70 dengan skor belanja 0-40.\n",
    "Jika kita loha pengelompokan ini lebih condong pengelompokan pada Skor belanja dimana merah memili skor belanja terendah, hijau memiliki skor belanja sedang, dan biru memiliki skor belanja yang tinggi."
   ]
  },
  {
   "cell_type": "markdown",
   "metadata": {
    "id": "o6v4rSlgZt42"
   },
   "source": [
    "**Expected Output:**\n",
    "\n",
    "* Dataframe hasil inverse scaling (hasil urutan nomor label mungkin berbeda, tapi tetap terdiri dari 0, 1, dan 2) <br>\n",
    "![](https://puu.sh/IN3jl/3d2c66f2de.png)\n",
    "\n",
    "* Grafik dari data frame tersebut, warna boleh berbeda, tapi perhatikan angka pada sumbu x dan y: <br>\n",
    "![](https://puu.sh/IIPUx/d953c4760f.png)\n",
    "\n",
    "* Uraian analisis & rekomendasi\n",
    "<br>\\[Tulis apa informasi yang kalian dapat dari grafik tersebut dan sertakan rekomendasi kalian untuk meningkatkan penjualan supermarket ini\\]"
   ]
  }
 ],
 "metadata": {
  "colab": {
   "collapsed_sections": [],
   "name": "Tugas_pekan_4_PDS(MiniProject).ipynb",
   "provenance": []
  },
  "kernelspec": {
   "display_name": "Python 3 (ipykernel)",
   "language": "python",
   "name": "python3"
  },
  "language_info": {
   "codemirror_mode": {
    "name": "ipython",
    "version": 3
   },
   "file_extension": ".py",
   "mimetype": "text/x-python",
   "name": "python",
   "nbconvert_exporter": "python",
   "pygments_lexer": "ipython3",
   "version": "3.8.5"
  }
 },
 "nbformat": 4,
 "nbformat_minor": 1
}
