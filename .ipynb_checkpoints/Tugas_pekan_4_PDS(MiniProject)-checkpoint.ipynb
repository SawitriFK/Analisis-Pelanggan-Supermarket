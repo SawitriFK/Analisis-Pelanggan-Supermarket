{
 "cells": [
  {
   "cell_type": "markdown",
   "metadata": {
    "id": "88N7J1l0-xa0"
   },
   "source": [
    "Tugas ini berupa mini project yang diselesaikan diakhir pertemuan bulan pertama. Tugas disusun sesuai dengan materi yang diberikan tiap harinya di pekan 4. "
   ]
  },
  {
   "cell_type": "markdown",
   "metadata": {
    "id": "IRNtERY8FNe1"
   },
   "source": [
    "# Dataset\n",
    "\n",
    "silahkan unduh dataset berikut untuk mengerjakan tugas pekan 4:\n",
    "\n",
    "[pelanggan_supermarket.csv](https://drive.google.com/uc?export=download&id=1jaxCbZ4fcCneeVCEN-yuxWE0RyX25tbQ)"
   ]
  },
  {
   "cell_type": "markdown",
   "metadata": {
    "id": "Dk_lP4YPF6_i"
   },
   "source": [
    "\n",
    "\n",
    "---\n",
    "\n",
    "\n",
    "\n",
    "---\n",
    "\n",
    "\n",
    "\n",
    "---\n",
    "\n"
   ]
  },
  {
   "cell_type": "code",
   "execution_count": 1,
   "metadata": {
    "id": "lhN_Ue2qF8nN"
   },
   "outputs": [],
   "source": [
    "import pandas as pd\n",
    "import numpy as np\n",
    "import matplotlib.pyplot as plt\n",
    "import seaborn as sns\n",
    "import warnings\n",
    "warnings.filterwarnings('ignore')"
   ]
  },
  {
   "cell_type": "code",
   "execution_count": 2,
   "metadata": {
    "id": "M1tQcd_ILZXq"
   },
   "outputs": [
    {
     "data": {
      "text/html": [
       "<div>\n",
       "<style scoped>\n",
       "    .dataframe tbody tr th:only-of-type {\n",
       "        vertical-align: middle;\n",
       "    }\n",
       "\n",
       "    .dataframe tbody tr th {\n",
       "        vertical-align: top;\n",
       "    }\n",
       "\n",
       "    .dataframe thead th {\n",
       "        text-align: right;\n",
       "    }\n",
       "</style>\n",
       "<table border=\"1\" class=\"dataframe\">\n",
       "  <thead>\n",
       "    <tr style=\"text-align: right;\">\n",
       "      <th></th>\n",
       "      <th>ID_pelanggan</th>\n",
       "      <th>Jenis Kelamin</th>\n",
       "      <th>Umur</th>\n",
       "      <th>Pendapatan pertahun (juta)</th>\n",
       "      <th>Skor Belanja (1-100)</th>\n",
       "    </tr>\n",
       "  </thead>\n",
       "  <tbody>\n",
       "    <tr>\n",
       "      <th>112</th>\n",
       "      <td>113</td>\n",
       "      <td>Perempuan</td>\n",
       "      <td>38.0</td>\n",
       "      <td>64</td>\n",
       "      <td>42.0</td>\n",
       "    </tr>\n",
       "    <tr>\n",
       "      <th>44</th>\n",
       "      <td>45</td>\n",
       "      <td>Perempuan</td>\n",
       "      <td>49.0</td>\n",
       "      <td>39</td>\n",
       "      <td>28.0</td>\n",
       "    </tr>\n",
       "    <tr>\n",
       "      <th>178</th>\n",
       "      <td>179</td>\n",
       "      <td>Laki-laki</td>\n",
       "      <td>59.0</td>\n",
       "      <td>93</td>\n",
       "      <td>14.0</td>\n",
       "    </tr>\n",
       "    <tr>\n",
       "      <th>131</th>\n",
       "      <td>132</td>\n",
       "      <td>Laki-laki</td>\n",
       "      <td>39.0</td>\n",
       "      <td>71</td>\n",
       "      <td>75.0</td>\n",
       "    </tr>\n",
       "    <tr>\n",
       "      <th>36</th>\n",
       "      <td>37</td>\n",
       "      <td>Perempuan</td>\n",
       "      <td>42.0</td>\n",
       "      <td>34</td>\n",
       "      <td>17.0</td>\n",
       "    </tr>\n",
       "  </tbody>\n",
       "</table>\n",
       "</div>"
      ],
      "text/plain": [
       "     ID_pelanggan Jenis Kelamin  Umur  Pendapatan pertahun (juta)  \\\n",
       "112           113     Perempuan  38.0                          64   \n",
       "44             45     Perempuan  49.0                          39   \n",
       "178           179     Laki-laki  59.0                          93   \n",
       "131           132     Laki-laki  39.0                          71   \n",
       "36             37     Perempuan  42.0                          34   \n",
       "\n",
       "     Skor Belanja (1-100)  \n",
       "112                  42.0  \n",
       "44                   28.0  \n",
       "178                  14.0  \n",
       "131                  75.0  \n",
       "36                   17.0  "
      ]
     },
     "execution_count": 2,
     "metadata": {},
     "output_type": "execute_result"
    }
   ],
   "source": [
    "#Load data dari csv\n",
    "\n",
    "df = pd.read_csv('pelanggan_supermarket.csv')\n",
    "\n",
    "df.sample(5)"
   ]
  },
  {
   "cell_type": "code",
   "execution_count": 26,
   "metadata": {},
   "outputs": [
    {
     "data": {
      "text/plain": [
       "(250, 5)"
      ]
     },
     "execution_count": 26,
     "metadata": {},
     "output_type": "execute_result"
    }
   ],
   "source": [
    "df.shape"
   ]
  },
  {
   "cell_type": "markdown",
   "metadata": {
    "id": "aklja_xv_MS9"
   },
   "source": [
    "\n",
    "\n",
    "---\n",
    "\n",
    "\n",
    "\n",
    "---\n",
    "\n",
    "\n",
    "\n",
    "---\n",
    "\n"
   ]
  },
  {
   "cell_type": "markdown",
   "metadata": {
    "id": "zGrxp0w2GFOs"
   },
   "source": [
    "# Soal 1. Statistika Deskriptif\n",
    "\n",
    "Lakukan eksplorasi data dengan menggunakan statistika deskriptif. Gunakan pandas untuk mendapatkan summary statistics, dan analisa hasil yang ditampilkan."
   ]
  },
  {
   "cell_type": "code",
   "execution_count": 3,
   "metadata": {
    "id": "DpV8-yksGpIt"
   },
   "outputs": [
    {
     "data": {
      "text/html": [
       "<div>\n",
       "<style scoped>\n",
       "    .dataframe tbody tr th:only-of-type {\n",
       "        vertical-align: middle;\n",
       "    }\n",
       "\n",
       "    .dataframe tbody tr th {\n",
       "        vertical-align: top;\n",
       "    }\n",
       "\n",
       "    .dataframe thead th {\n",
       "        text-align: right;\n",
       "    }\n",
       "</style>\n",
       "<table border=\"1\" class=\"dataframe\">\n",
       "  <thead>\n",
       "    <tr style=\"text-align: right;\">\n",
       "      <th></th>\n",
       "      <th>ID_pelanggan</th>\n",
       "      <th>Umur</th>\n",
       "      <th>Pendapatan pertahun (juta)</th>\n",
       "      <th>Skor Belanja (1-100)</th>\n",
       "    </tr>\n",
       "  </thead>\n",
       "  <tbody>\n",
       "    <tr>\n",
       "      <th>count</th>\n",
       "      <td>250.000000</td>\n",
       "      <td>245.000000</td>\n",
       "      <td>250.000000</td>\n",
       "      <td>246.000000</td>\n",
       "    </tr>\n",
       "    <tr>\n",
       "      <th>mean</th>\n",
       "      <td>125.500000</td>\n",
       "      <td>38.730612</td>\n",
       "      <td>64.736000</td>\n",
       "      <td>50.325203</td>\n",
       "    </tr>\n",
       "    <tr>\n",
       "      <th>std</th>\n",
       "      <td>72.312977</td>\n",
       "      <td>14.328726</td>\n",
       "      <td>25.112324</td>\n",
       "      <td>28.668121</td>\n",
       "    </tr>\n",
       "    <tr>\n",
       "      <th>min</th>\n",
       "      <td>1.000000</td>\n",
       "      <td>18.000000</td>\n",
       "      <td>15.000000</td>\n",
       "      <td>3.000000</td>\n",
       "    </tr>\n",
       "    <tr>\n",
       "      <th>25%</th>\n",
       "      <td>63.250000</td>\n",
       "      <td>29.000000</td>\n",
       "      <td>47.000000</td>\n",
       "      <td>26.250000</td>\n",
       "    </tr>\n",
       "    <tr>\n",
       "      <th>50%</th>\n",
       "      <td>125.500000</td>\n",
       "      <td>36.000000</td>\n",
       "      <td>70.000000</td>\n",
       "      <td>50.000000</td>\n",
       "    </tr>\n",
       "    <tr>\n",
       "      <th>75%</th>\n",
       "      <td>187.750000</td>\n",
       "      <td>48.000000</td>\n",
       "      <td>78.750000</td>\n",
       "      <td>74.750000</td>\n",
       "    </tr>\n",
       "    <tr>\n",
       "      <th>max</th>\n",
       "      <td>250.000000</td>\n",
       "      <td>120.000000</td>\n",
       "      <td>137.000000</td>\n",
       "      <td>150.000000</td>\n",
       "    </tr>\n",
       "  </tbody>\n",
       "</table>\n",
       "</div>"
      ],
      "text/plain": [
       "       ID_pelanggan        Umur  Pendapatan pertahun (juta)  \\\n",
       "count    250.000000  245.000000                  250.000000   \n",
       "mean     125.500000   38.730612                   64.736000   \n",
       "std       72.312977   14.328726                   25.112324   \n",
       "min        1.000000   18.000000                   15.000000   \n",
       "25%       63.250000   29.000000                   47.000000   \n",
       "50%      125.500000   36.000000                   70.000000   \n",
       "75%      187.750000   48.000000                   78.750000   \n",
       "max      250.000000  120.000000                  137.000000   \n",
       "\n",
       "       Skor Belanja (1-100)  \n",
       "count            246.000000  \n",
       "mean              50.325203  \n",
       "std               28.668121  \n",
       "min                3.000000  \n",
       "25%               26.250000  \n",
       "50%               50.000000  \n",
       "75%               74.750000  \n",
       "max              150.000000  "
      ]
     },
     "execution_count": 3,
     "metadata": {},
     "output_type": "execute_result"
    }
   ],
   "source": [
    "df.describe()"
   ]
  },
  {
   "cell_type": "markdown",
   "metadata": {
    "id": "ENATFBsjU6Me"
   },
   "source": [
    "**Expected output**\n",
    "\n",
    "![](https://drive.google.com/uc?id=1-5_d0Ey1lWMXj0d8ABimuPqqTz-h-8mx)"
   ]
  },
  {
   "cell_type": "markdown",
   "metadata": {
    "id": "keRLYMjXHGup"
   },
   "source": [
    "\n",
    "\n",
    "---\n",
    "\n",
    "\n",
    "\n",
    "---\n",
    "\n",
    "\n",
    "\n",
    "---\n",
    "\n"
   ]
  },
  {
   "cell_type": "markdown",
   "metadata": {
    "id": "gqqEXm2yynSB"
   },
   "source": [
    "# Soal 2. Handling missing value\n",
    "\n",
    "Jika dilihat dari summary statistik terlihat dataset memiliki nilai missing. Hitunglah jumlah missing value menggunakan methode .isnull(). \n",
    "\n",
    "Isi nilai nan dengan nilai sebelumnya di row tersebut. gunakan method .fillna() dengan argument method bernilai 'ffill', baca dokumentasi https://pandas.pydata.org/pandas-docs/stable/reference/api/pandas.DataFrame.fillna.html"
   ]
  },
  {
   "cell_type": "markdown",
   "metadata": {
    "id": "i7yrAL-mZt4o"
   },
   "source": [
    "Cek keberadaan missing value sebelum imputasi"
   ]
  },
  {
   "cell_type": "code",
   "execution_count": 4,
   "metadata": {
    "id": "1SuPdIDFSCjn"
   },
   "outputs": [
    {
     "data": {
      "text/plain": [
       "ID_pelanggan                  0\n",
       "Jenis Kelamin                 0\n",
       "Umur                          5\n",
       "Pendapatan pertahun (juta)    0\n",
       "Skor Belanja (1-100)          4\n",
       "dtype: int64"
      ]
     },
     "execution_count": 4,
     "metadata": {},
     "output_type": "execute_result"
    }
   ],
   "source": [
    "df.isnull().sum()"
   ]
  },
  {
   "cell_type": "markdown",
   "metadata": {
    "id": "84_QmoQCbWxy"
   },
   "source": [
    "isi nilai nan dengan menggunakan metode 'ffill' "
   ]
  },
  {
   "cell_type": "code",
   "execution_count": 5,
   "metadata": {
    "id": "VkrSzblxbU6R"
   },
   "outputs": [],
   "source": [
    "df = df.fillna(method=\"ffill\")"
   ]
  },
  {
   "cell_type": "markdown",
   "metadata": {
    "id": "Nk2o-YkFZt4q"
   },
   "source": [
    "Cek kembali keberadaan missing value setelah imputasi"
   ]
  },
  {
   "cell_type": "code",
   "execution_count": 6,
   "metadata": {
    "id": "Mho3zeRweopD"
   },
   "outputs": [
    {
     "data": {
      "text/plain": [
       "ID_pelanggan                  0\n",
       "Jenis Kelamin                 0\n",
       "Umur                          0\n",
       "Pendapatan pertahun (juta)    0\n",
       "Skor Belanja (1-100)          0\n",
       "dtype: int64"
      ]
     },
     "execution_count": 6,
     "metadata": {},
     "output_type": "execute_result"
    }
   ],
   "source": [
    "df.isnull().sum()"
   ]
  },
  {
   "cell_type": "markdown",
   "metadata": {
    "id": "sy1o6Lhs_QJy"
   },
   "source": [
    "\n",
    "\n",
    "---\n",
    "\n",
    "\n",
    "\n",
    "---\n",
    "\n",
    "\n",
    "\n",
    "---\n",
    "\n"
   ]
  },
  {
   "cell_type": "markdown",
   "metadata": {
    "id": "0ch4lp680ZNj"
   },
   "source": [
    "# Soal 3. Handling outlier\n",
    "\n",
    "1. Apakah data set memiliki nilai pencilan untuk setiap kolom? periksalah dengan melakukan visualisasi menggunakan boxplot.\n",
    "2. Handling outlier tersebut dengan menggunakan teknik trimming / removing outliers (menggunakan teknik IQR)\n",
    "3. Teknik ini akan menghasilkan nilai missing pada nilai outlier yang telah dihapus, maka hapuslah data missing tersebut dengan menggunakan method .dropna()"
   ]
  },
  {
   "cell_type": "code",
   "execution_count": 15,
   "metadata": {
    "id": "MH1y8rEx0mKs"
   },
   "outputs": [
    {
     "data": {
      "image/png": "[encoded data removed]",
      "text/plain": [
       "<Figure size 1080x576 with 6 Axes>"
      ]
     },
     "metadata": {},
     "output_type": "display_data"
    }
   ],
   "source": [
    "#Tampilkan Boxplot masing-masing kolom berisi data kuantitatif sebelum handling outlier\n",
    "#Jenis plot yang digunakan adalah boxplot seaborn\n",
    "\n",
    "# Setting Seaborn\n",
    "sns.set(rc = {'figure.figsize':(15,8)})\n",
    "sns.set_style('white')\n",
    "\n",
    "fig,ax = plt.subplots(nrows=2, ncols=3)\n",
    "sns.boxplot(data = df, x='ID_pelanggan', ax=ax[0][0])\n",
    "sns.boxplot(data = df, x='Umur', ax=ax[0][1])\n",
    "sns.boxplot(data = df, x=\"Pendapatan pertahun (juta)\", ax=ax[0][2])\n",
    "sns.boxplot(data = df, x=\"Skor Belanja (1-100)\", ax=ax[1][0])\n",
    "\n",
    "# Membuat subplot 5 dan 6 tidak terlihat\n",
    "ax[1][1].set_visible(False)\n",
    "ax[1][2].set_visible(False)"
   ]
  },
  {
   "cell_type": "code",
   "execution_count": 21,
   "metadata": {},
   "outputs": [
    {
     "data": {
      "text/plain": [
       "Int64Index([249], dtype='int64')"
      ]
     },
     "execution_count": 21,
     "metadata": {},
     "output_type": "execute_result"
    }
   ],
   "source": [
    "# Fungsi mencaru Outliers\n",
    "def outliers(df, ft):\n",
    "    Q1= df[ft].quantile(0.25)\n",
    "    Q3 = df[ft].quantile(0.75)\n",
    "    IQR = Q3 - Q1\n",
    "    \n",
    "    \n",
    "    upper = Q3 + 1.5 * IQR\n",
    "    lower = Q1 - 1.5 * IQR\n",
    "    \n",
    "    \n",
    "    ls = df.index[ (df[ft] < lower) | (df[ft] > upper) ]\n",
    "    \n",
    "    return ls"
   ]
  },
  {
   "cell_type": "code",
   "execution_count": 25,
   "metadata": {},
   "outputs": [
    {
     "data": {
      "text/plain": [
       "[249, 198, 199, 16]"
      ]
     },
     "execution_count": 25,
     "metadata": {},
     "output_type": "execute_result"
    }
   ],
   "source": [
    "# Memasukkan index outliers yang ditemukan pada List\n",
    "\n",
    "index_list = []\n",
    "for feature in ['ID_pelanggan', 'Umur', \"Pendapatan pertahun (juta)\", \"Skor Belanja (1-100)\"]:\n",
    "    index_list.extend(outliers(df, feature))\n",
    "index_list"
   ]
  },
  {
   "cell_type": "code",
   "execution_count": 28,
   "metadata": {},
   "outputs": [],
   "source": [
    "# Fungsi Mengahapus objel\n",
    "def remove(df, ls):\n",
    "    ls = sorted(set(ls))\n",
    "    df = df.drop(ls)\n",
    "    return df"
   ]
  },
  {
   "cell_type": "code",
   "execution_count": 33,
   "metadata": {},
   "outputs": [
    {
     "data": {
      "text/html": [
       "<div>\n",
       "<style scoped>\n",
       "    .dataframe tbody tr th:only-of-type {\n",
       "        vertical-align: middle;\n",
       "    }\n",
       "\n",
       "    .dataframe tbody tr th {\n",
       "        vertical-align: top;\n",
       "    }\n",
       "\n",
       "    .dataframe thead th {\n",
       "        text-align: right;\n",
       "    }\n",
       "</style>\n",
       "<table border=\"1\" class=\"dataframe\">\n",
       "  <thead>\n",
       "    <tr style=\"text-align: right;\">\n",
       "      <th></th>\n",
       "      <th>ID_pelanggan</th>\n",
       "      <th>Jenis Kelamin</th>\n",
       "      <th>Umur</th>\n",
       "      <th>Pendapatan pertahun (juta)</th>\n",
       "      <th>Skor Belanja (1-100)</th>\n",
       "    </tr>\n",
       "  </thead>\n",
       "  <tbody>\n",
       "    <tr>\n",
       "      <th>0</th>\n",
       "      <td>1</td>\n",
       "      <td>Laki-laki</td>\n",
       "      <td>19.0</td>\n",
       "      <td>15</td>\n",
       "      <td>39.0</td>\n",
       "    </tr>\n",
       "    <tr>\n",
       "      <th>1</th>\n",
       "      <td>2</td>\n",
       "      <td>Laki-laki</td>\n",
       "      <td>21.0</td>\n",
       "      <td>15</td>\n",
       "      <td>81.0</td>\n",
       "    </tr>\n",
       "    <tr>\n",
       "      <th>2</th>\n",
       "      <td>3</td>\n",
       "      <td>Perempuan</td>\n",
       "      <td>20.0</td>\n",
       "      <td>16</td>\n",
       "      <td>6.0</td>\n",
       "    </tr>\n",
       "    <tr>\n",
       "      <th>3</th>\n",
       "      <td>4</td>\n",
       "      <td>Perempuan</td>\n",
       "      <td>23.0</td>\n",
       "      <td>16</td>\n",
       "      <td>77.0</td>\n",
       "    </tr>\n",
       "    <tr>\n",
       "      <th>4</th>\n",
       "      <td>5</td>\n",
       "      <td>Perempuan</td>\n",
       "      <td>31.0</td>\n",
       "      <td>17</td>\n",
       "      <td>40.0</td>\n",
       "    </tr>\n",
       "    <tr>\n",
       "      <th>...</th>\n",
       "      <td>...</td>\n",
       "      <td>...</td>\n",
       "      <td>...</td>\n",
       "      <td>...</td>\n",
       "      <td>...</td>\n",
       "    </tr>\n",
       "    <tr>\n",
       "      <th>244</th>\n",
       "      <td>245</td>\n",
       "      <td>Laki-laki</td>\n",
       "      <td>27.0</td>\n",
       "      <td>88</td>\n",
       "      <td>69.0</td>\n",
       "    </tr>\n",
       "    <tr>\n",
       "      <th>245</th>\n",
       "      <td>246</td>\n",
       "      <td>Laki-laki</td>\n",
       "      <td>59.0</td>\n",
       "      <td>93</td>\n",
       "      <td>14.0</td>\n",
       "    </tr>\n",
       "    <tr>\n",
       "      <th>246</th>\n",
       "      <td>247</td>\n",
       "      <td>Laki-laki</td>\n",
       "      <td>35.0</td>\n",
       "      <td>93</td>\n",
       "      <td>90.0</td>\n",
       "    </tr>\n",
       "    <tr>\n",
       "      <th>247</th>\n",
       "      <td>248</td>\n",
       "      <td>Perempuan</td>\n",
       "      <td>37.0</td>\n",
       "      <td>97</td>\n",
       "      <td>32.0</td>\n",
       "    </tr>\n",
       "    <tr>\n",
       "      <th>248</th>\n",
       "      <td>249</td>\n",
       "      <td>Perempuan</td>\n",
       "      <td>32.0</td>\n",
       "      <td>97</td>\n",
       "      <td>86.0</td>\n",
       "    </tr>\n",
       "  </tbody>\n",
       "</table>\n",
       "<p>246 rows × 5 columns</p>\n",
       "</div>"
      ],
      "text/plain": [
       "     ID_pelanggan Jenis Kelamin  Umur  Pendapatan pertahun (juta)  \\\n",
       "0               1     Laki-laki  19.0                          15   \n",
       "1               2     Laki-laki  21.0                          15   \n",
       "2               3     Perempuan  20.0                          16   \n",
       "3               4     Perempuan  23.0                          16   \n",
       "4               5     Perempuan  31.0                          17   \n",
       "..            ...           ...   ...                         ...   \n",
       "244           245     Laki-laki  27.0                          88   \n",
       "245           246     Laki-laki  59.0                          93   \n",
       "246           247     Laki-laki  35.0                          93   \n",
       "247           248     Perempuan  37.0                          97   \n",
       "248           249     Perempuan  32.0                          97   \n",
       "\n",
       "     Skor Belanja (1-100)  \n",
       "0                    39.0  \n",
       "1                    81.0  \n",
       "2                     6.0  \n",
       "3                    77.0  \n",
       "4                    40.0  \n",
       "..                    ...  \n",
       "244                  69.0  \n",
       "245                  14.0  \n",
       "246                  90.0  \n",
       "247                  32.0  \n",
       "248                  86.0  \n",
       "\n",
       "[246 rows x 5 columns]"
      ]
     },
     "execution_count": 33,
     "metadata": {},
     "output_type": "execute_result"
    }
   ],
   "source": [
    "#Hilangkan Outlier dan tampilkan dataframe hasil menghilangkan outliernya\n",
    "\n",
    "df_clean = remove(df, index_list)\n",
    "df_clean"
   ]
  },
  {
   "cell_type": "code",
   "execution_count": 39,
   "metadata": {
    "id": "cJLeOfj9Zt4s"
   },
   "outputs": [
    {
     "data": {
      "text/plain": [
       "<AxesSubplot:xlabel='Skor Belanja (1-100)'>"
      ]
     },
     "execution_count": 39,
     "metadata": {},
     "output_type": "execute_result"
    },
    {
     "data": {
      "image/png": "[encoded data removed]",
      "text/plain": [
       "<Figure size 1080x288 with 3 Axes>"
      ]
     },
     "metadata": {},
     "output_type": "display_data"
    }
   ],
   "source": [
    "#Tampilkan Boxplot masing-masing kolom berisi data kuantitatif sesudah handling outlier\n",
    "#Kolom ID Pelanggan tidak ikut ditampilkan\n",
    "\n",
    "# Setting Seaborn\n",
    "sns.set(rc = {'figure.figsize':(15,4)})\n",
    "sns.set_style('white')\n",
    "\n",
    "fig,ax = plt.subplots(nrows=1, ncols=3)\n",
    "sns.boxplot(data = df_clean, x='Umur', ax=ax[0])\n",
    "sns.boxplot(data = df_clean, x=\"Pendapatan pertahun (juta)\", ax=ax[1])\n",
    "sns.boxplot(data = df_clean, x=\"Skor Belanja (1-100)\", ax=ax[2])"
   ]
  },
  {
   "cell_type": "markdown",
   "metadata": {
    "id": "71J4kYuHVkbn"
   },
   "source": [
    "**Expected output**\n",
    "\n",
    "- **Melihat adanya pencilan menggunakan Boxplot (Sebelum hapus outlier):**\n",
    "\n",
    "![](https://drive.google.com/uc?id=1ettD4G8xBMCYcMUVt88kn5k_yCufgdyf)\n",
    "\n",
    "- **Data frame setelah menghapus outlier:**\n",
    "\n",
    "![](https://puu.sh/IIOxx/b0d9c3d73e.png)\n",
    "\n",
    "- **Melihat adanya pencilan menggunakan Boxplot (Setelah hapus outlier):**\n",
    "![](https://puu.sh/IIOA5/de25854dfa.png)"
   ]
  },
  {
   "cell_type": "markdown",
   "metadata": {
    "id": "mpSdl95j_TVj"
   },
   "source": [
    "\n",
    "\n",
    "---\n",
    "\n",
    "\n",
    "\n",
    "---\n",
    "\n",
    "\n",
    "\n",
    "---\n",
    "\n"
   ]
  },
  {
   "cell_type": "markdown",
   "metadata": {
    "id": "YKODTt1z7XTq"
   },
   "source": [
    "# Soal 4. statistika Inferential\n",
    "\n",
    "\n",
    "\n",
    "*   Kita akan melakukan hipotesis terhadap 100 sample pengunjung Supermarket. Hipotesis awal adalah rata2 usia pengunjung supermarket adalah 35 tahun. Ujilah hipotesis tersebut dengan menggunakan teknik probabilitas p-value)!\n",
    "*   Level significat value acuan (disebut juga level alpha) adalah 5%\n",
    "*   Gunakan variabel dataframe **hasil handling missing value dan outlier dari soal sebelumnya**\n",
    "*   Berikan uraian analisis uji hipotesis menggunakan teknik p-value (untuk mendapatkan nilai p-value, silahkan gunakan fungsi **\"ztest\"** dari library **statsmodels.stats.weightstats**)\n",
    "*   Untuk mempermudah perhitungan, ubahlah tipe data kolom Umur menjadi int dengan menggunakan methode .astype() baca dokumentasi https://pandas.pydata.org/pandas-docs/stable/reference/api/pandas.DataFrame.astype.html\n",
    "\n",
    "\n",
    "\n"
   ]
  },
  {
   "cell_type": "code",
   "execution_count": 40,
   "metadata": {
    "id": "wEPnJKbl7GTK"
   },
   "outputs": [
    {
     "data": {
      "text/html": [
       "<div>\n",
       "<style scoped>\n",
       "    .dataframe tbody tr th:only-of-type {\n",
       "        vertical-align: middle;\n",
       "    }\n",
       "\n",
       "    .dataframe tbody tr th {\n",
       "        vertical-align: top;\n",
       "    }\n",
       "\n",
       "    .dataframe thead th {\n",
       "        text-align: right;\n",
       "    }\n",
       "</style>\n",
       "<table border=\"1\" class=\"dataframe\">\n",
       "  <thead>\n",
       "    <tr style=\"text-align: right;\">\n",
       "      <th></th>\n",
       "      <th>ID_pelanggan</th>\n",
       "      <th>Jenis Kelamin</th>\n",
       "      <th>Umur</th>\n",
       "      <th>Pendapatan pertahun (juta)</th>\n",
       "      <th>Skor Belanja (1-100)</th>\n",
       "    </tr>\n",
       "  </thead>\n",
       "  <tbody>\n",
       "    <tr>\n",
       "      <th>68</th>\n",
       "      <td>69</td>\n",
       "      <td>Laki-laki</td>\n",
       "      <td>19.0</td>\n",
       "      <td>48</td>\n",
       "      <td>59.0</td>\n",
       "    </tr>\n",
       "    <tr>\n",
       "      <th>248</th>\n",
       "      <td>249</td>\n",
       "      <td>Perempuan</td>\n",
       "      <td>32.0</td>\n",
       "      <td>97</td>\n",
       "      <td>86.0</td>\n",
       "    </tr>\n",
       "    <tr>\n",
       "      <th>211</th>\n",
       "      <td>212</td>\n",
       "      <td>Laki-laki</td>\n",
       "      <td>25.0</td>\n",
       "      <td>77</td>\n",
       "      <td>12.0</td>\n",
       "    </tr>\n",
       "    <tr>\n",
       "      <th>225</th>\n",
       "      <td>226</td>\n",
       "      <td>Laki-laki</td>\n",
       "      <td>30.0</td>\n",
       "      <td>78</td>\n",
       "      <td>4.0</td>\n",
       "    </tr>\n",
       "    <tr>\n",
       "      <th>91</th>\n",
       "      <td>92</td>\n",
       "      <td>Laki-laki</td>\n",
       "      <td>18.0</td>\n",
       "      <td>59</td>\n",
       "      <td>41.0</td>\n",
       "    </tr>\n",
       "    <tr>\n",
       "      <th>...</th>\n",
       "      <td>...</td>\n",
       "      <td>...</td>\n",
       "      <td>...</td>\n",
       "      <td>...</td>\n",
       "      <td>...</td>\n",
       "    </tr>\n",
       "    <tr>\n",
       "      <th>5</th>\n",
       "      <td>6</td>\n",
       "      <td>Perempuan</td>\n",
       "      <td>22.0</td>\n",
       "      <td>17</td>\n",
       "      <td>76.0</td>\n",
       "    </tr>\n",
       "    <tr>\n",
       "      <th>184</th>\n",
       "      <td>185</td>\n",
       "      <td>Perempuan</td>\n",
       "      <td>41.0</td>\n",
       "      <td>99</td>\n",
       "      <td>39.0</td>\n",
       "    </tr>\n",
       "    <tr>\n",
       "      <th>186</th>\n",
       "      <td>187</td>\n",
       "      <td>Perempuan</td>\n",
       "      <td>54.0</td>\n",
       "      <td>101</td>\n",
       "      <td>24.0</td>\n",
       "    </tr>\n",
       "    <tr>\n",
       "      <th>49</th>\n",
       "      <td>50</td>\n",
       "      <td>Perempuan</td>\n",
       "      <td>31.0</td>\n",
       "      <td>40</td>\n",
       "      <td>42.0</td>\n",
       "    </tr>\n",
       "    <tr>\n",
       "      <th>201</th>\n",
       "      <td>202</td>\n",
       "      <td>Laki-laki</td>\n",
       "      <td>20.0</td>\n",
       "      <td>73</td>\n",
       "      <td>5.0</td>\n",
       "    </tr>\n",
       "  </tbody>\n",
       "</table>\n",
       "<p>100 rows × 5 columns</p>\n",
       "</div>"
      ],
      "text/plain": [
       "     ID_pelanggan Jenis Kelamin  Umur  Pendapatan pertahun (juta)  \\\n",
       "68             69     Laki-laki  19.0                          48   \n",
       "248           249     Perempuan  32.0                          97   \n",
       "211           212     Laki-laki  25.0                          77   \n",
       "225           226     Laki-laki  30.0                          78   \n",
       "91             92     Laki-laki  18.0                          59   \n",
       "..            ...           ...   ...                         ...   \n",
       "5               6     Perempuan  22.0                          17   \n",
       "184           185     Perempuan  41.0                          99   \n",
       "186           187     Perempuan  54.0                         101   \n",
       "49             50     Perempuan  31.0                          40   \n",
       "201           202     Laki-laki  20.0                          73   \n",
       "\n",
       "     Skor Belanja (1-100)  \n",
       "68                   59.0  \n",
       "248                  86.0  \n",
       "211                  12.0  \n",
       "225                   4.0  \n",
       "91                   41.0  \n",
       "..                    ...  \n",
       "5                    76.0  \n",
       "184                  39.0  \n",
       "186                  24.0  \n",
       "49                   42.0  \n",
       "201                   5.0  \n",
       "\n",
       "[100 rows x 5 columns]"
      ]
     },
     "metadata": {},
     "output_type": "display_data"
    }
   ],
   "source": [
    "#Lakukan sampling\n",
    "#Isi bagian yang kosong dengan nama dataframe tempat anda menyimpan hasil no. 3\n",
    "\n",
    "df_100 = df_clean.sample(100,  random_state=1)\n",
    "display(df_100)"
   ]
  },
  {
   "cell_type": "code",
   "execution_count": 42,
   "metadata": {
    "id": "KsXLp9-IxrLr"
   },
   "outputs": [
    {
     "data": {
      "text/plain": [
       "ID_pelanggan                    int64\n",
       "Jenis Kelamin                  object\n",
       "Umur                            int32\n",
       "Pendapatan pertahun (juta)      int64\n",
       "Skor Belanja (1-100)          float64\n",
       "dtype: object"
      ]
     },
     "execution_count": 42,
     "metadata": {},
     "output_type": "execute_result"
    }
   ],
   "source": [
    "#Ubah value kolom Umur dari float menjadi integer\n",
    "\n",
    "df_clean = df_clean.astype({'Umur':np.int})\n",
    "df_clean.dtypes"
   ]
  },
  {
   "cell_type": "code",
   "execution_count": 43,
   "metadata": {
    "id": "D7tYQ8qDp4in"
   },
   "outputs": [
    {
     "ename": "ModuleNotFoundError",
     "evalue": "No module named 'statsmodels'",
     "output_type": "error",
     "traceback": [
      "\u001b[1;31m---------------------------------------------------------------------------\u001b[0m",
      "\u001b[1;31mModuleNotFoundError\u001b[0m                       Traceback (most recent call last)",
      "Input \u001b[1;32mIn [43]\u001b[0m, in \u001b[0;36m<module>\u001b[1;34m\u001b[0m\n\u001b[0;32m      1\u001b[0m \u001b[38;5;66;03m# menggunakan teknik p-value\u001b[39;00m\n\u001b[0;32m      2\u001b[0m \u001b[38;5;66;03m# Isi bagian yang kosong\u001b[39;00m\n\u001b[1;32m----> 4\u001b[0m \u001b[38;5;28;01mfrom\u001b[39;00m \u001b[38;5;21;01mstatsmodels\u001b[39;00m\u001b[38;5;21;01m.\u001b[39;00m\u001b[38;5;21;01mstats\u001b[39;00m\u001b[38;5;21;01m.\u001b[39;00m\u001b[38;5;21;01mweightstats\u001b[39;00m \u001b[38;5;28;01mimport\u001b[39;00m ztest\n\u001b[0;32m      6\u001b[0m z_test, p_value \u001b[38;5;241m=\u001b[39m ztest(x1 \u001b[38;5;241m=\u001b[39m df_clean, value \u001b[38;5;241m=\u001b[39m\u001b[38;5;241m100\u001b[39m)\n\u001b[0;32m      8\u001b[0m \u001b[38;5;66;03m#print the Results\u001b[39;00m\n",
      "\u001b[1;31mModuleNotFoundError\u001b[0m: No module named 'statsmodels'"
     ]
    }
   ],
   "source": [
    "# menggunakan teknik p-value\n",
    "# Isi bagian yang kosong\n",
    "\n",
    "from statsmodels.stats.weightstats import ztest\n",
    "\n",
    "z_test, p_value = ztest(x1 = df_clean, value =100)\n",
    "\n",
    "#print the Results\n",
    "print(f'Z-test is :{z_test}')\n",
    "print(f'p-value is :{p_value}')"
   ]
  },
  {
   "cell_type": "markdown",
   "metadata": {
    "id": "68Kt7Jr3Zt4u"
   },
   "source": [
    "**Expected Output:**\n",
    "\n",
    "Z-Test is: 2.48741...\n",
    "<br>P-value is: 0.01286767...\n",
    "\n",
    "<br>\\[Uraian analisis berdasarkan p-value\\]"
   ]
  },
  {
   "cell_type": "markdown",
   "metadata": {
    "id": "272__Q0-_H_E"
   },
   "source": [
    "\n",
    "\n",
    "---\n",
    "\n",
    "\n",
    "\n",
    "---\n",
    "\n",
    "\n",
    "\n",
    "---\n",
    "\n"
   ]
  },
  {
   "cell_type": "markdown",
   "metadata": {
    "id": "q4TB5nadDdp1"
   },
   "source": [
    "## Soal 5. EDA"
   ]
  },
  {
   "cell_type": "markdown",
   "metadata": {
    "id": "GQCd-O8ApvTE"
   },
   "source": [
    "### 5.a. Univariate Analysis\n",
    "\n",
    "Lakukan eksplorasi data analisis. Gunakan visualisasi distplot untuk melihat sebaran data dan histogram pada setiap kolom **dataset awal sebelum dilakukan handling missing value maupun outlier**.\n",
    "<br><br>\n",
    "Jenis plot yang digunakan adalah distplot seaborn"
   ]
  },
  {
   "cell_type": "code",
   "execution_count": null,
   "metadata": {
    "id": "yqU_q301A-Iw"
   },
   "outputs": [],
   "source": []
  },
  {
   "cell_type": "markdown",
   "metadata": {
    "id": "2RdSlcSKZt4v"
   },
   "source": [
    "**Expected Output:**\n",
    "\n",
    "![](https://puu.sh/IIOGG/54e31ca7e0.png)\n",
    "\n",
    "\\[Uraian analisis berdasarkan output grafik analisis univariat yang didapat\\]"
   ]
  },
  {
   "cell_type": "markdown",
   "metadata": {
    "id": "dboImtGCDjMs"
   },
   "source": [
    "---\n",
    "\n",
    "### 5.b. Bivariate Analysis\n",
    "\n",
    "Lakukan eksplorasi data analisis. Gunakan visualisasi barplot untuk melihat perbandingan skor belanja antara pengunjung perempuan dengan pengunjung lai-laki pada dataset awal **sebelum dilakukan handling missing value maupun outlier**\n",
    "\n",
    "#### > Sort dataframe berdasarkan Skor Belanja, dari besar ke kecil\n"
   ]
  },
  {
   "cell_type": "code",
   "execution_count": null,
   "metadata": {
    "id": "35VQedYoEB-w"
   },
   "outputs": [],
   "source": [
    "skor = ____"
   ]
  },
  {
   "cell_type": "markdown",
   "metadata": {
    "id": "ES5gHkXmZt4w"
   },
   "source": [
    "#### > Tampilkan 5 data teratasnya"
   ]
  },
  {
   "cell_type": "code",
   "execution_count": null,
   "metadata": {
    "id": "cnUOyPGUZt4w"
   },
   "outputs": [],
   "source": []
  },
  {
   "cell_type": "markdown",
   "metadata": {
    "id": "nwqnveD6Zt4w"
   },
   "source": [
    "#### > Tampilkan 5 data terbawahnya"
   ]
  },
  {
   "cell_type": "code",
   "execution_count": null,
   "metadata": {
    "id": "uGct3LD7RUon"
   },
   "outputs": [],
   "source": []
  },
  {
   "cell_type": "markdown",
   "metadata": {
    "id": "KRN9MnmmZt4w"
   },
   "source": [
    "#### > Buat grafiknya menggunakan barplot seaborn"
   ]
  },
  {
   "cell_type": "code",
   "execution_count": null,
   "metadata": {
    "id": "7zp_872QEOfJ",
    "scrolled": false
   },
   "outputs": [],
   "source": []
  },
  {
   "cell_type": "markdown",
   "metadata": {
    "id": "rvomcnVzWD90"
   },
   "source": [
    "**Expected output:**\n",
    "\n",
    "![](https://puu.sh/IIOLu/8c1c76b5e4.png)\n",
    "\n",
    "\\[Uraian analisis dari grafik bivariat yang didapat\\]"
   ]
  },
  {
   "cell_type": "markdown",
   "metadata": {
    "id": "fihavQveF98v"
   },
   "source": [
    "---\n",
    "\n",
    "### 5.c. Multivariate Analysis\n",
    "\n",
    "Lakukan eksplorasi data analisis. Gunakan visualisasi heatmap sebagai multivariate analisis untuk melihat korelasi tertinggi dari setiap data pada dataset awal **sebelum dilakukan handling missing value maupun outlier**\n",
    "\n",
    "Plot menggunakan heatmap seaborn."
   ]
  },
  {
   "cell_type": "code",
   "execution_count": null,
   "metadata": {
    "id": "jCLrxETOGKVf"
   },
   "outputs": [],
   "source": [
    "#Isi bagian yang kosong\n",
    "sns.heatmap(____, annot=True, fmt='.2g')"
   ]
  },
  {
   "cell_type": "markdown",
   "metadata": {
    "id": "huO1O_clZt4y"
   },
   "source": [
    "**Expected Output:**\n",
    "\n",
    "![](https://puu.sh/IIOQG/57c5ba3219.png)\n",
    "\n",
    "\\[Uraian analisis dari grafik multivariat yang didapat\\]"
   ]
  },
  {
   "cell_type": "markdown",
   "metadata": {
    "id": "z2nJhKqNpryR"
   },
   "source": [
    "\n",
    "\n",
    "---\n",
    "\n",
    "---\n",
    "\n",
    "\n",
    "\n",
    "---\n",
    "\n",
    "\n",
    "\n"
   ]
  },
  {
   "cell_type": "markdown",
   "metadata": {
    "id": "AF0090RVqbyh"
   },
   "source": [
    "# Soal 6\n",
    "lakukan scaling data dengan menggunakan standarisasi untuk kolom Umur dan skor belanja saja tetapi **menggunakan variabel dataframe setelah handling missing value dan outlier**"
   ]
  },
  {
   "cell_type": "code",
   "execution_count": null,
   "metadata": {
    "id": "XGv9ODV8G-Hc",
    "scrolled": true
   },
   "outputs": [],
   "source": [
    "#feature scaling\n",
    "\n",
    "from sklearn.preprocessing import StandardScaler\n",
    "\n"
   ]
  },
  {
   "cell_type": "markdown",
   "metadata": {
    "id": "sQYs6ldnZt4y"
   },
   "source": [
    "**Expected Output (Hasil yang ditampilkan hanya sebagian):**\n",
    "\n",
    "![](https://puu.sh/IIOZx/c4bae0561e.png)"
   ]
  },
  {
   "cell_type": "markdown",
   "metadata": {
    "id": "6_4IxEFEqwNp"
   },
   "source": [
    "\n",
    "\n",
    "---\n",
    "\n",
    "\n",
    "\n",
    "---\n",
    "\n",
    "\n",
    "\n",
    "---\n",
    "\n"
   ]
  },
  {
   "cell_type": "markdown",
   "metadata": {
    "id": "gPDw48Mmqx7n"
   },
   "source": [
    "# Soal 7\n",
    "\n",
    "*   Lakukan clustering menggunakan kmeans clustering dengan k =2, dan visualisasikan\n",
    "*   Gunakan Elbow method untuk menemukan jumlah k kluster yang tepat\n",
    "*   Gunakan k=3 (rekomendasi methode Elbow) lalu visualisasikan\n",
    "*   Hitung silhoutte Coefficient dari ke dua hasil prediksi klustering tersebut"
   ]
  },
  {
   "cell_type": "code",
   "execution_count": null,
   "metadata": {
    "id": "MVrICKF8IERW"
   },
   "outputs": [],
   "source": [
    "#clustering n=2\n",
    "from sklearn.cluster import KMeans\n"
   ]
  },
  {
   "cell_type": "code",
   "execution_count": null,
   "metadata": {
    "id": "vT5kkBu_IaKK"
   },
   "outputs": [],
   "source": [
    "#visualisasi n=2 beserta centroid-centroidnya\n"
   ]
  },
  {
   "cell_type": "code",
   "execution_count": null,
   "metadata": {
    "id": "7Ah0fMJSLlC6"
   },
   "outputs": [],
   "source": [
    "#elbow method beserta visualisasinya\n"
   ]
  },
  {
   "cell_type": "code",
   "execution_count": null,
   "metadata": {
    "id": "YZ86o5ggrLXg"
   },
   "outputs": [],
   "source": [
    "#clustering n=3\n"
   ]
  },
  {
   "cell_type": "code",
   "execution_count": null,
   "metadata": {
    "id": "372Hy7u4Zt41"
   },
   "outputs": [],
   "source": [
    "#visualisasi n=3 beserta centroid-centroidnya\n"
   ]
  },
  {
   "cell_type": "code",
   "execution_count": null,
   "metadata": {
    "id": "tDBLnR3fI2RL"
   },
   "outputs": [],
   "source": [
    "#tampilan silhoutte score untuk n=2 dan n=3\n",
    "from sklearn.metrics import silhouette_score\n"
   ]
  },
  {
   "cell_type": "markdown",
   "metadata": {
    "id": "ffhO8oUcXYy4"
   },
   "source": [
    "**Expected output**\n",
    "\n",
    "cluster 2\n",
    "\n",
    "![](https://drive.google.com/uc?id=1L7nIskGXbeXGhKOzhMWCykJ4jY5538mn)\n",
    "\n",
    "elbow method\n",
    "\n",
    "![](https://drive.google.com/uc?id=1a3OL9FhiQ2-DyJQ8sg8PNzfS9QsszyvU)\n",
    "\n",
    "cluster 3\n",
    "\n",
    "![](https://drive.google.com/uc?id=1UR6vK36oLJinLPtechjJJBtxifmdFOSn)"
   ]
  },
  {
   "cell_type": "markdown",
   "metadata": {
    "id": "eS19gNH_Zt41"
   },
   "source": [
    "---\n",
    "---\n",
    "---\n",
    "\n",
    "## Soal 8. Analyze clustering result\n",
    "\n",
    "Dari hasil klustering diatas, buatlah sebuah analisa segmentasi pelanggan untuk targetted market supermarket.\n",
    "Langkah-langkah:\n",
    "\n",
    "* Buatlah dataframe hasil inverse scaling dari hasil pengerjaan no. 6\n",
    "* Masukkan label hasil clustering K=3 ke data frame baru ini.\n",
    "* Tampilkan kembali scatterplot berdasarkan data frame baru ini\n",
    "* Buatlah uraian analisa dari grafik tersebut\n",
    "* Berikan rekomendasi kepada manajemen supermarket tersebut untuk meningkatkan penjualan"
   ]
  },
  {
   "cell_type": "code",
   "execution_count": null,
   "metadata": {
    "id": "XBId02hZJfyK"
   },
   "outputs": [],
   "source": [
    "#Inverse transform hasil pengerjaan no. 6 kemudian jadikanlah dataframe\n",
    "inv_scaled = ______\n",
    "\n",
    "new_df1 = pd.DataFrame(data=____,\n",
    "                       columns=____)\n",
    "\n",
    "new_df1['label_k3'] = ____\n",
    "new_df1"
   ]
  },
  {
   "cell_type": "code",
   "execution_count": null,
   "metadata": {
    "id": "Sf-6M9oFJ2ob"
   },
   "outputs": [],
   "source": [
    "#Tampilkan dalam scatterplot\n"
   ]
  },
  {
   "cell_type": "markdown",
   "metadata": {
    "id": "sz_piZCGZt42"
   },
   "source": [
    "\\[Tulis uraian analisis grafik yang sudah anda buat di sini\\]"
   ]
  },
  {
   "cell_type": "markdown",
   "metadata": {
    "id": "o6v4rSlgZt42"
   },
   "source": [
    "**Expected Output:**\n",
    "\n",
    "* Dataframe hasil inverse scaling (hasil urutan nomor label mungkin berbeda, tapi tetap terdiri dari 0, 1, dan 2) <br>\n",
    "![](https://puu.sh/IN3jl/3d2c66f2de.png)\n",
    "\n",
    "* Grafik dari data frame tersebut, warna boleh berbeda, tapi perhatikan angka pada sumbu x dan y: <br>\n",
    "![](https://puu.sh/IIPUx/d953c4760f.png)\n",
    "\n",
    "* Uraian analisis & rekomendasi\n",
    "<br>\\[Tulis apa informasi yang kalian dapat dari grafik tersebut dan sertakan rekomendasi kalian untuk meningkatkan penjualan supermarket ini\\]"
   ]
  }
 ],
 "metadata": {
  "colab": {
   "collapsed_sections": [],
   "name": "Tugas_pekan_4_PDS(MiniProject).ipynb",
   "provenance": []
  },
  "kernelspec": {
   "display_name": "Python 3 (ipykernel)",
   "language": "python",
   "name": "python3"
  },
  "language_info": {
   "codemirror_mode": {
    "name": "ipython",
    "version": 3
   },
   "file_extension": ".py",
   "mimetype": "text/x-python",
   "name": "python",
   "nbconvert_exporter": "python",
   "pygments_lexer": "ipython3",
   "version": "3.8.5"
  }
 },
 "nbformat": 4,
 "nbformat_minor": 1
}
