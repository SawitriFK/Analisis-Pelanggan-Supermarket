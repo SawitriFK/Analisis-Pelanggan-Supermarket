{
 "cells": [
  {
   "cell_type": "markdown",
   "metadata": {
    "id": "88N7J1l0-xa0"
   },
   "source": [
    "Tugas ini berupa mini project yang diselesaikan diakhir pertemuan bulan pertama. Tugas disusun sesuai dengan materi yang diberikan tiap harinya di pekan 4. "
   ]
  },
  {
   "cell_type": "markdown",
   "metadata": {
    "id": "IRNtERY8FNe1"
   },
   "source": [
    "# Dataset\n",
    "\n",
    "silahkan unduh dataset berikut untuk mengerjakan tugas pekan 4:\n",
    "\n",
    "[pelanggan_supermarket.csv](https://drive.google.com/uc?export=download&id=1jaxCbZ4fcCneeVCEN-yuxWE0RyX25tbQ)"
   ]
  },
  {
   "cell_type": "markdown",
   "metadata": {
    "id": "Dk_lP4YPF6_i"
   },
   "source": [
    "\n",
    "\n",
    "---\n",
    "\n",
    "\n",
    "\n",
    "---\n",
    "\n",
    "\n",
    "\n",
    "---\n",
    "\n"
   ]
  },
  {
   "cell_type": "code",
   "execution_count": null,
   "metadata": {
    "id": "lhN_Ue2qF8nN"
   },
   "outputs": [],
   "source": [
    "import pandas as pd\n",
    "import numpy as np\n",
    "import matplotlib.pyplot as plt\n",
    "import seaborn as sns\n",
    "import warnings\n",
    "warnings.filterwarnings('ignore')"
   ]
  },
  {
   "cell_type": "code",
   "execution_count": null,
   "metadata": {
    "id": "M1tQcd_ILZXq"
   },
   "outputs": [],
   "source": [
    "#Load data dari csv\n"
   ]
  },
  {
   "cell_type": "markdown",
   "metadata": {
    "id": "aklja_xv_MS9"
   },
   "source": [
    "\n",
    "\n",
    "---\n",
    "\n",
    "\n",
    "\n",
    "---\n",
    "\n",
    "\n",
    "\n",
    "---\n",
    "\n"
   ]
  },
  {
   "cell_type": "markdown",
   "metadata": {
    "id": "zGrxp0w2GFOs"
   },
   "source": [
    "# Soal 1. Statistika Deskriptif\n",
    "\n",
    "Lakukan eksplorasi data dengan menggunakan statistika deskriptif. Gunakan pandas untuk mendapatkan summary statistics, dan analisa hasil yang ditampilkan."
   ]
  },
  {
   "cell_type": "code",
   "execution_count": null,
   "metadata": {
    "id": "DpV8-yksGpIt"
   },
   "outputs": [],
   "source": []
  },
  {
   "cell_type": "markdown",
   "metadata": {
    "id": "ENATFBsjU6Me"
   },
   "source": [
    "**Expected output**\n",
    "\n",
    "![](https://drive.google.com/uc?id=1-5_d0Ey1lWMXj0d8ABimuPqqTz-h-8mx)"
   ]
  },
  {
   "cell_type": "markdown",
   "metadata": {
    "id": "keRLYMjXHGup"
   },
   "source": [
    "\n",
    "\n",
    "---\n",
    "\n",
    "\n",
    "\n",
    "---\n",
    "\n",
    "\n",
    "\n",
    "---\n",
    "\n"
   ]
  },
  {
   "cell_type": "markdown",
   "metadata": {
    "id": "gqqEXm2yynSB"
   },
   "source": [
    "# Soal 2. Handling missing value\n",
    "\n",
    "Jika dilihat dari summary statistik terlihat dataset memiliki nilai missing. Hitunglah jumlah missing value menggunakan methode .isnull(). \n",
    "\n",
    "Isi nilai nan dengan nilai sebelumnya di row tersebut. gunakan method .fillna() dengan argument method bernilai 'ffill', baca dokumentasi https://pandas.pydata.org/pandas-docs/stable/reference/api/pandas.DataFrame.fillna.html"
   ]
  },
  {
   "cell_type": "markdown",
   "metadata": {
    "id": "i7yrAL-mZt4o"
   },
   "source": [
    "Cek keberadaan missing value sebelum imputasi"
   ]
  },
  {
   "cell_type": "code",
   "execution_count": null,
   "metadata": {
    "id": "1SuPdIDFSCjn"
   },
   "outputs": [],
   "source": []
  },
  {
   "cell_type": "markdown",
   "metadata": {
    "id": "84_QmoQCbWxy"
   },
   "source": [
    "isi nilai nan dengan menggunakan metode 'ffill' "
   ]
  },
  {
   "cell_type": "code",
   "execution_count": null,
   "metadata": {
    "id": "VkrSzblxbU6R"
   },
   "outputs": [],
   "source": []
  },
  {
   "cell_type": "markdown",
   "metadata": {
    "id": "Nk2o-YkFZt4q"
   },
   "source": [
    "Cek kembali keberadaan missing value setelah imputasi"
   ]
  },
  {
   "cell_type": "code",
   "execution_count": null,
   "metadata": {
    "id": "Mho3zeRweopD"
   },
   "outputs": [],
   "source": []
  },
  {
   "cell_type": "markdown",
   "metadata": {
    "id": "sy1o6Lhs_QJy"
   },
   "source": [
    "\n",
    "\n",
    "---\n",
    "\n",
    "\n",
    "\n",
    "---\n",
    "\n",
    "\n",
    "\n",
    "---\n",
    "\n"
   ]
  },
  {
   "cell_type": "markdown",
   "metadata": {
    "id": "0ch4lp680ZNj"
   },
   "source": [
    "# Soal 3. Handling outlier\n",
    "\n",
    "1. Apakah data set memiliki nilai pencilan untuk setiap kolom? periksalah dengan melakukan visualisasi menggunakan boxplot.\n",
    "2. Handling outlier tersebut dengan menggunakan teknik trimming / removing outliers (menggunakan teknik IQR)\n",
    "3. Teknik ini akan menghasilkan nilai missing pada nilai outlier yang telah dihapus, maka hapuslah data missing tersebut dengan menggunakan method .dropna()"
   ]
  },
  {
   "cell_type": "code",
   "execution_count": null,
   "metadata": {
    "id": "MH1y8rEx0mKs"
   },
   "outputs": [],
   "source": [
    "#Tampilkan Boxplot masing-masing kolom berisi data kuantitatif sebelum handling outlier\n",
    "#Jenis plot yang digunakan adalah boxplot seaborn\n"
   ]
  },
  {
   "cell_type": "code",
   "execution_count": null,
   "metadata": {
    "id": "BkU9nyx7290e"
   },
   "outputs": [],
   "source": [
    "#Hilangkan Outlier dan tampilkan dataframe hasil menghilangkan outliernya\n"
   ]
  },
  {
   "cell_type": "code",
   "execution_count": null,
   "metadata": {
    "id": "cJLeOfj9Zt4s"
   },
   "outputs": [],
   "source": [
    "#Tampilkan Boxplot masing-masing kolom berisi data kuantitatif sesudah handling outlier\n",
    "#Kolom ID Pelanggan tidak ikut ditampilkan\n"
   ]
  },
  {
   "cell_type": "markdown",
   "metadata": {
    "id": "71J4kYuHVkbn"
   },
   "source": [
    "**Expected output**\n",
    "\n",
    "- **Melihat adanya pencilan menggunakan Boxplot (Sebelum hapus outlier):**\n",
    "\n",
    "![](https://drive.google.com/uc?id=1ettD4G8xBMCYcMUVt88kn5k_yCufgdyf)\n",
    "\n",
    "- **Data frame setelah menghapus outlier:**\n",
    "\n",
    "![](https://puu.sh/IIOxx/b0d9c3d73e.png)\n",
    "\n",
    "- **Melihat adanya pencilan menggunakan Boxplot (Setelah hapus outlier):**\n",
    "![](https://puu.sh/IIOA5/de25854dfa.png)"
   ]
  },
  {
   "cell_type": "markdown",
   "metadata": {
    "id": "mpSdl95j_TVj"
   },
   "source": [
    "\n",
    "\n",
    "---\n",
    "\n",
    "\n",
    "\n",
    "---\n",
    "\n",
    "\n",
    "\n",
    "---\n",
    "\n"
   ]
  },
  {
   "cell_type": "markdown",
   "metadata": {
    "id": "YKODTt1z7XTq"
   },
   "source": [
    "# Soal 4. statistika Inferential\n",
    "\n",
    "\n",
    "\n",
    "*   Kita akan melakukan hipotesis terhadap 100 sample pengunjung Supermarket. Hipotesis awal adalah rata2 usia pengunjung supermarket adalah 35 tahun. Ujilah hipotesis tersebut dengan menggunakan teknik probabilitas p-value)!\n",
    "*   Level significat value acuan (disebut juga level alpha) adalah 5%\n",
    "*   Gunakan variabel dataframe **hasil handling missing value dan outlier dari soal sebelumnya**\n",
    "*   Berikan uraian analisis uji hipotesis menggunakan teknik p-value (untuk mendapatkan nilai p-value, silahkan gunakan fungsi **\"ztest\"** dari library **statsmodels.stats.weightstats**)\n",
    "*   Untuk mempermudah perhitungan, ubahlah tipe data kolom Umur menjadi int dengan menggunakan methode .astype() baca dokumentasi https://pandas.pydata.org/pandas-docs/stable/reference/api/pandas.DataFrame.astype.html\n",
    "\n",
    "\n",
    "\n"
   ]
  },
  {
   "cell_type": "code",
   "execution_count": null,
   "metadata": {
    "id": "wEPnJKbl7GTK"
   },
   "outputs": [],
   "source": [
    "#Lakukan sampling\n",
    "#Isi bagian yang kosong dengan nama dataframe tempat anda menyimpan hasil no. 3\n",
    "\n",
    "df_100 = __.sample(100,  random_state=1)\n",
    "display(df_100)"
   ]
  },
  {
   "cell_type": "code",
   "execution_count": null,
   "metadata": {
    "id": "KsXLp9-IxrLr"
   },
   "outputs": [],
   "source": [
    "#Ubah value kolom Umur dari float menjadi integer\n"
   ]
  },
  {
   "cell_type": "code",
   "execution_count": null,
   "metadata": {
    "id": "D7tYQ8qDp4in"
   },
   "outputs": [],
   "source": [
    "# menggunakan teknik p-value\n",
    "# Isi bagian yang kosong\n",
    "\n",
    "from statsmodels.stats.weightstats import ztest\n",
    "\n",
    "z_test, p_value = ztest(x1 = ___, value =___)\n",
    "\n",
    "#print the Results\n",
    "print(f'Z-test is :{z_test}')\n",
    "print(f'p-value is :{p_value}')"
   ]
  },
  {
   "cell_type": "markdown",
   "metadata": {
    "id": "68Kt7Jr3Zt4u"
   },
   "source": [
    "**Expected Output:**\n",
    "\n",
    "Z-Test is: 2.48741...\n",
    "<br>P-value is: 0.01286767...\n",
    "\n",
    "<br>\\[Uraian analisis berdasarkan p-value\\]"
   ]
  },
  {
   "cell_type": "markdown",
   "metadata": {
    "id": "272__Q0-_H_E"
   },
   "source": [
    "\n",
    "\n",
    "---\n",
    "\n",
    "\n",
    "\n",
    "---\n",
    "\n",
    "\n",
    "\n",
    "---\n",
    "\n"
   ]
  },
  {
   "cell_type": "markdown",
   "metadata": {
    "id": "q4TB5nadDdp1"
   },
   "source": [
    "## Soal 5. EDA"
   ]
  },
  {
   "cell_type": "markdown",
   "metadata": {
    "id": "GQCd-O8ApvTE"
   },
   "source": [
    "### 5.a. Univariate Analysis\n",
    "\n",
    "Lakukan eksplorasi data analisis. Gunakan visualisasi distplot untuk melihat sebaran data dan histogram pada setiap kolom **dataset awal sebelum dilakukan handling missing value maupun outlier**.\n",
    "<br><br>\n",
    "Jenis plot yang digunakan adalah distplot seaborn"
   ]
  },
  {
   "cell_type": "code",
   "execution_count": null,
   "metadata": {
    "id": "yqU_q301A-Iw"
   },
   "outputs": [],
   "source": []
  },
  {
   "cell_type": "markdown",
   "metadata": {
    "id": "2RdSlcSKZt4v"
   },
   "source": [
    "**Expected Output:**\n",
    "\n",
    "![](https://puu.sh/IIOGG/54e31ca7e0.png)\n",
    "\n",
    "\\[Uraian analisis berdasarkan output grafik analisis univariat yang didapat\\]"
   ]
  },
  {
   "cell_type": "markdown",
   "metadata": {
    "id": "dboImtGCDjMs"
   },
   "source": [
    "---\n",
    "\n",
    "### 5.b. Bivariate Analysis\n",
    "\n",
    "Lakukan eksplorasi data analisis. Gunakan visualisasi barplot untuk melihat perbandingan skor belanja antara pengunjung perempuan dengan pengunjung lai-laki pada dataset awal **sebelum dilakukan handling missing value maupun outlier**\n",
    "\n",
    "#### > Sort dataframe berdasarkan Skor Belanja, dari besar ke kecil\n"
   ]
  },
  {
   "cell_type": "code",
   "execution_count": null,
   "metadata": {
    "id": "35VQedYoEB-w"
   },
   "outputs": [],
   "source": [
    "skor = ____"
   ]
  },
  {
   "cell_type": "markdown",
   "metadata": {
    "id": "ES5gHkXmZt4w"
   },
   "source": [
    "#### > Tampilkan 5 data teratasnya"
   ]
  },
  {
   "cell_type": "code",
   "execution_count": null,
   "metadata": {
    "id": "cnUOyPGUZt4w"
   },
   "outputs": [],
   "source": []
  },
  {
   "cell_type": "markdown",
   "metadata": {
    "id": "nwqnveD6Zt4w"
   },
   "source": [
    "#### > Tampilkan 5 data terbawahnya"
   ]
  },
  {
   "cell_type": "code",
   "execution_count": null,
   "metadata": {
    "id": "uGct3LD7RUon"
   },
   "outputs": [],
   "source": []
  },
  {
   "cell_type": "markdown",
   "metadata": {
    "id": "KRN9MnmmZt4w"
   },
   "source": [
    "#### > Buat grafiknya menggunakan barplot seaborn"
   ]
  },
  {
   "cell_type": "code",
   "execution_count": null,
   "metadata": {
    "id": "7zp_872QEOfJ",
    "scrolled": false
   },
   "outputs": [],
   "source": []
  },
  {
   "cell_type": "markdown",
   "metadata": {
    "id": "rvomcnVzWD90"
   },
   "source": [
    "**Expected output:**\n",
    "\n",
    "![](https://puu.sh/IIOLu/8c1c76b5e4.png)\n",
    "\n",
    "\\[Uraian analisis dari grafik bivariat yang didapat\\]"
   ]
  },
  {
   "cell_type": "markdown",
   "metadata": {
    "id": "fihavQveF98v"
   },
   "source": [
    "---\n",
    "\n",
    "### 5.c. Multivariate Analysis\n",
    "\n",
    "Lakukan eksplorasi data analisis. Gunakan visualisasi heatmap sebagai multivariate analisis untuk melihat korelasi tertinggi dari setiap data pada dataset awal **sebelum dilakukan handling missing value maupun outlier**\n",
    "\n",
    "Plot menggunakan heatmap seaborn."
   ]
  },
  {
   "cell_type": "code",
   "execution_count": null,
   "metadata": {
    "id": "jCLrxETOGKVf"
   },
   "outputs": [],
   "source": [
    "#Isi bagian yang kosong\n",
    "sns.heatmap(____, annot=True, fmt='.2g')"
   ]
  },
  {
   "cell_type": "markdown",
   "metadata": {
    "id": "huO1O_clZt4y"
   },
   "source": [
    "**Expected Output:**\n",
    "\n",
    "![](https://puu.sh/IIOQG/57c5ba3219.png)\n",
    "\n",
    "\\[Uraian analisis dari grafik multivariat yang didapat\\]"
   ]
  },
  {
   "cell_type": "markdown",
   "metadata": {
    "id": "z2nJhKqNpryR"
   },
   "source": [
    "\n",
    "\n",
    "---\n",
    "\n",
    "---\n",
    "\n",
    "\n",
    "\n",
    "---\n",
    "\n",
    "\n",
    "\n"
   ]
  },
  {
   "cell_type": "markdown",
   "metadata": {
    "id": "AF0090RVqbyh"
   },
   "source": [
    "# Soal 6\n",
    "lakukan scaling data dengan menggunakan standarisasi untuk kolom Umur dan skor belanja saja tetapi **menggunakan variabel dataframe setelah handling missing value dan outlier**"
   ]
  },
  {
   "cell_type": "code",
   "execution_count": null,
   "metadata": {
    "id": "XGv9ODV8G-Hc",
    "scrolled": true
   },
   "outputs": [],
   "source": [
    "#feature scaling\n",
    "\n",
    "from sklearn.preprocessing import StandardScaler\n",
    "\n"
   ]
  },
  {
   "cell_type": "markdown",
   "metadata": {
    "id": "sQYs6ldnZt4y"
   },
   "source": [
    "**Expected Output (Hasil yang ditampilkan hanya sebagian):**\n",
    "\n",
    "![](https://puu.sh/IIOZx/c4bae0561e.png)"
   ]
  },
  {
   "cell_type": "markdown",
   "metadata": {
    "id": "6_4IxEFEqwNp"
   },
   "source": [
    "\n",
    "\n",
    "---\n",
    "\n",
    "\n",
    "\n",
    "---\n",
    "\n",
    "\n",
    "\n",
    "---\n",
    "\n"
   ]
  },
  {
   "cell_type": "markdown",
   "metadata": {
    "id": "gPDw48Mmqx7n"
   },
   "source": [
    "# Soal 7\n",
    "\n",
    "*   Lakukan clustering menggunakan kmeans clustering dengan k =2, dan visualisasikan\n",
    "*   Gunakan Elbow method untuk menemukan jumlah k kluster yang tepat\n",
    "*   Gunakan k=3 (rekomendasi methode Elbow) lalu visualisasikan\n",
    "*   Hitung silhoutte Coefficient dari ke dua hasil prediksi klustering tersebut"
   ]
  },
  {
   "cell_type": "code",
   "execution_count": null,
   "metadata": {
    "id": "MVrICKF8IERW"
   },
   "outputs": [],
   "source": [
    "#clustering n=2\n",
    "from sklearn.cluster import KMeans\n"
   ]
  },
  {
   "cell_type": "code",
   "execution_count": null,
   "metadata": {
    "id": "vT5kkBu_IaKK"
   },
   "outputs": [],
   "source": [
    "#visualisasi n=2 beserta centroid-centroidnya\n"
   ]
  },
  {
   "cell_type": "code",
   "execution_count": null,
   "metadata": {
    "id": "7Ah0fMJSLlC6"
   },
   "outputs": [],
   "source": [
    "#elbow method beserta visualisasinya\n"
   ]
  },
  {
   "cell_type": "code",
   "execution_count": null,
   "metadata": {
    "id": "YZ86o5ggrLXg"
   },
   "outputs": [],
   "source": [
    "#clustering n=3\n"
   ]
  },
  {
   "cell_type": "code",
   "execution_count": null,
   "metadata": {
    "id": "372Hy7u4Zt41"
   },
   "outputs": [],
   "source": [
    "#visualisasi n=3 beserta centroid-centroidnya\n"
   ]
  },
  {
   "cell_type": "code",
   "execution_count": null,
   "metadata": {
    "id": "tDBLnR3fI2RL"
   },
   "outputs": [],
   "source": [
    "#tampilan silhoutte score untuk n=2 dan n=3\n",
    "from sklearn.metrics import silhouette_score\n"
   ]
  },
  {
   "cell_type": "markdown",
   "metadata": {
    "id": "ffhO8oUcXYy4"
   },
   "source": [
    "**Expected output**\n",
    "\n",
    "cluster 2\n",
    "\n",
    "![](https://drive.google.com/uc?id=1L7nIskGXbeXGhKOzhMWCykJ4jY5538mn)\n",
    "\n",
    "elbow method\n",
    "\n",
    "![](https://drive.google.com/uc?id=1a3OL9FhiQ2-DyJQ8sg8PNzfS9QsszyvU)\n",
    "\n",
    "cluster 3\n",
    "\n",
    "![](https://drive.google.com/uc?id=1UR6vK36oLJinLPtechjJJBtxifmdFOSn)"
   ]
  },
  {
   "cell_type": "markdown",
   "metadata": {
    "id": "eS19gNH_Zt41"
   },
   "source": [
    "---\n",
    "---\n",
    "---\n",
    "\n",
    "## Soal 8. Analyze clustering result\n",
    "\n",
    "Dari hasil klustering diatas, buatlah sebuah analisa segmentasi pelanggan untuk targetted market supermarket.\n",
    "Langkah-langkah:\n",
    "\n",
    "* Buatlah dataframe hasil inverse scaling dari hasil pengerjaan no. 6\n",
    "* Masukkan label hasil clustering K=3 ke data frame baru ini.\n",
    "* Tampilkan kembali scatterplot berdasarkan data frame baru ini\n",
    "* Buatlah uraian analisa dari grafik tersebut\n",
    "* Berikan rekomendasi kepada manajemen supermarket tersebut untuk meningkatkan penjualan"
   ]
  },
  {
   "cell_type": "code",
   "execution_count": null,
   "metadata": {
    "id": "XBId02hZJfyK"
   },
   "outputs": [],
   "source": [
    "#Inverse transform hasil pengerjaan no. 6 kemudian jadikanlah dataframe\n",
    "inv_scaled = ______\n",
    "\n",
    "new_df1 = pd.DataFrame(data=____,\n",
    "                       columns=____)\n",
    "\n",
    "new_df1['label_k3'] = ____\n",
    "new_df1"
   ]
  },
  {
   "cell_type": "code",
   "execution_count": null,
   "metadata": {
    "id": "Sf-6M9oFJ2ob"
   },
   "outputs": [],
   "source": [
    "#Tampilkan dalam scatterplot\n"
   ]
  },
  {
   "cell_type": "markdown",
   "metadata": {
    "id": "sz_piZCGZt42"
   },
   "source": [
    "\\[Tulis uraian analisis grafik yang sudah anda buat di sini\\]"
   ]
  },
  {
   "cell_type": "markdown",
   "metadata": {
    "id": "o6v4rSlgZt42"
   },
   "source": [
    "**Expected Output:**\n",
    "\n",
    "* Dataframe hasil inverse scaling (hasil urutan nomor label mungkin berbeda, tapi tetap terdiri dari 0, 1, dan 2) <br>\n",
    "![](https://puu.sh/IN3jl/3d2c66f2de.png)\n",
    "\n",
    "* Grafik dari data frame tersebut, warna boleh berbeda, tapi perhatikan angka pada sumbu x dan y: <br>\n",
    "![](https://puu.sh/IIPUx/d953c4760f.png)\n",
    "\n",
    "* Uraian analisis & rekomendasi\n",
    "<br>\\[Tulis apa informasi yang kalian dapat dari grafik tersebut dan sertakan rekomendasi kalian untuk meningkatkan penjualan supermarket ini\\]"
   ]
  }
 ],
 "metadata": {
  "colab": {
   "collapsed_sections": [],
   "name": "Tugas_pekan_4_PDS(MiniProject).ipynb",
   "provenance": []
  },
  "kernelspec": {
   "display_name": "Python 3 (ipykernel)",
   "language": "python",
   "name": "python3"
  },
  "language_info": {
   "codemirror_mode": {
    "name": "ipython",
    "version": 3
   },
   "file_extension": ".py",
   "mimetype": "text/x-python",
   "name": "python",
   "nbconvert_exporter": "python",
   "pygments_lexer": "ipython3",
   "version": "3.8.5"
  }
 },
 "nbformat": 4,
 "nbformat_minor": 1
}
